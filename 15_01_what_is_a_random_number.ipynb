{
  "nbformat": 4,
  "nbformat_minor": 0,
  "metadata": {
    "colab": {
      "name": "15_01_what_is_a_random_number.ipynb",
      "provenance": [],
      "collapsed_sections": [],
      "include_colab_link": true
    },
    "kernelspec": {
      "name": "python3",
      "display_name": "Python 3"
    }
  },
  "cells": [
    {
      "cell_type": "markdown",
      "metadata": {
        "id": "view-in-github",
        "colab_type": "text"
      },
      "source": [
        "<a href=\"https://colab.research.google.com/github/Natbel-Ov/data_science/blob/main/15_01_what_is_a_random_number.ipynb\" target=\"_parent\"><img src=\"https://colab.research.google.com/assets/colab-badge.svg\" alt=\"Open In Colab\"/></a>"
      ]
    },
    {
      "cell_type": "markdown",
      "metadata": {
        "id": "hqiK1wjPZP2L"
      },
      "source": [
        "#Random Numbers in NumPy"
      ]
    },
    {
      "cell_type": "markdown",
      "metadata": {
        "id": "LICTVvzLZJSL"
      },
      "source": [
        "##What is a Random Number?\n",
        "Random number does NOT mean a different number every time. Random means something that can not be predicted logically."
      ]
    },
    {
      "cell_type": "markdown",
      "metadata": {
        "id": "qIgow-EiZjRA"
      },
      "source": [
        "##Pseudo Random and True Random.\n",
        "Computers work on programs, and programs are definitive set of instructions. So it means there must be some algorithm to generate a random number as well.\n",
        "\n",
        "If there is a program to generate random number it can be predicted, thus it is not truly random.\n",
        "\n",
        "Random numbers generated through a generation algorithm are called pseudo random.\n",
        "\n",
        "Can we make truly random numbers?\n",
        "\n",
        "Yes. In order to generate a truly random number on our computers we need to get the random data from some outside source. This outside source is generally our keystrokes, mouse movements, data on network etc.\n",
        "\n",
        "We do not need truly random numbers, unless its related to security (e.g. encryption keys) or the basis of application is the randomness (e.g. Digital roulette wheels).\n",
        "\n",
        "In this tutorial we will be using pseudo random numbers."
      ]
    },
    {
      "cell_type": "markdown",
      "metadata": {
        "id": "iN1xw4rYZns8"
      },
      "source": [
        "##Generate Random Number\n",
        "NumPy offers the random module to work with random numbers."
      ]
    },
    {
      "cell_type": "markdown",
      "metadata": {
        "id": "R4y_x-XDZqRT"
      },
      "source": [
        "**Example**\n",
        "\n",
        "Generate a random integer from 0 to 100:"
      ]
    },
    {
      "cell_type": "code",
      "metadata": {
        "id": "GqKoaY_LZAlh",
        "colab": {
          "base_uri": "https://localhost:8080/",
          "height": 34
        },
        "outputId": "f1e8c703-6909-4d84-95db-f86071526095"
      },
      "source": [
        "from numpy import random\n",
        "\n",
        "x = random.randint(100)\n",
        "\n",
        "print(x)"
      ],
      "execution_count": null,
      "outputs": [
        {
          "output_type": "stream",
          "text": [
            "54\n"
          ],
          "name": "stdout"
        }
      ]
    },
    {
      "cell_type": "markdown",
      "metadata": {
        "id": "2YS7ZnO0Zv6U"
      },
      "source": [
        "##Generate Random Float\n",
        "The random module's rand() method returns a random float between 0 and 1."
      ]
    },
    {
      "cell_type": "markdown",
      "metadata": {
        "id": "-4W5ZbWkZ0sX"
      },
      "source": [
        "**Example**\n",
        "\n",
        "Generate a random float from 0 to 1:"
      ]
    },
    {
      "cell_type": "code",
      "metadata": {
        "id": "dXrAOrJGZtZd",
        "colab": {
          "base_uri": "https://localhost:8080/",
          "height": 34
        },
        "outputId": "23ff5c39-725f-434f-e850-ec3fca79ad02"
      },
      "source": [
        "from numpy import random\n",
        "\n",
        "x = random.rand()\n",
        "\n",
        "print(x)"
      ],
      "execution_count": null,
      "outputs": [
        {
          "output_type": "stream",
          "text": [
            "0.5163234207840868\n"
          ],
          "name": "stdout"
        }
      ]
    },
    {
      "cell_type": "markdown",
      "metadata": {
        "id": "R5aJB8rDZ8Ms"
      },
      "source": [
        "##Generate Random Array\n",
        "In NumPy we work with arrays, and you can use the two methods from the above examples to make random arrays.\n",
        "\n",
        "###Integers\n",
        "The randint() method takes a size parameter where you can specify the shape of an array.\n"
      ]
    },
    {
      "cell_type": "markdown",
      "metadata": {
        "id": "p1cM-ha8aJj1"
      },
      "source": [
        "**Example**\n",
        "Generate a 1-D array containing 5 random integers from 0 to 100:"
      ]
    },
    {
      "cell_type": "code",
      "metadata": {
        "id": "Rgjw1ovvZ3oh",
        "colab": {
          "base_uri": "https://localhost:8080/",
          "height": 34
        },
        "outputId": "5fd36c63-3cd9-4f3e-f0db-10d5b743294b"
      },
      "source": [
        "from numpy import random\n",
        "\n",
        "x=random.randint(100, size=(5))\n",
        "\n",
        "print(x)"
      ],
      "execution_count": null,
      "outputs": [
        {
          "output_type": "stream",
          "text": [
            "[62 68 81 26 52]\n"
          ],
          "name": "stdout"
        }
      ]
    },
    {
      "cell_type": "markdown",
      "metadata": {
        "id": "UYJdr_0FaPXe"
      },
      "source": [
        "**Example**\n",
        "\n",
        "Generate a 2-D array with 3 rows, each row containing 5 random integers from 0 to 100:"
      ]
    },
    {
      "cell_type": "code",
      "metadata": {
        "id": "Xq2y-Vr4aMbt",
        "colab": {
          "base_uri": "https://localhost:8080/",
          "height": 68
        },
        "outputId": "1ed9945d-08db-42d2-860d-762d9fa91f06"
      },
      "source": [
        "from numpy import random\n",
        "\n",
        "x = random.randint(100, size=(3, 5))\n",
        "\n",
        "print(x)"
      ],
      "execution_count": null,
      "outputs": [
        {
          "output_type": "stream",
          "text": [
            "[[ 9 14 82 51 61]\n",
            " [66 31 74  0 32]\n",
            " [86 44 17 89 62]]\n"
          ],
          "name": "stdout"
        }
      ]
    },
    {
      "cell_type": "markdown",
      "metadata": {
        "id": "KmzO-I1daXYm"
      },
      "source": [
        "###Floats\n",
        "The rand() method also allows you to specify the shape of the array."
      ]
    },
    {
      "cell_type": "markdown",
      "metadata": {
        "id": "n0XyFT39acC2"
      },
      "source": [
        "**Example**\n",
        "\n",
        "Generate a 1-D array containing 5 random floats:\n"
      ]
    },
    {
      "cell_type": "code",
      "metadata": {
        "id": "AopFpOGNaU0O",
        "colab": {
          "base_uri": "https://localhost:8080/",
          "height": 34
        },
        "outputId": "2332f843-1953-485f-bfe3-f1e2a83fb3b6"
      },
      "source": [
        "from numpy import random\n",
        "\n",
        "x = random.rand(5)\n",
        "\n",
        "print(x)"
      ],
      "execution_count": null,
      "outputs": [
        {
          "output_type": "stream",
          "text": [
            "[0.56219199 0.74312924 0.14679684 0.52579539 0.8876837 ]\n"
          ],
          "name": "stdout"
        }
      ]
    },
    {
      "cell_type": "markdown",
      "metadata": {
        "id": "v3zdWLJ3avH7"
      },
      "source": [
        "**Example**\n",
        "\n",
        "Generate a 2-D array with 3 rows, each row containing 5 random numbers:"
      ]
    },
    {
      "cell_type": "code",
      "metadata": {
        "id": "wmarE56WafSH",
        "colab": {
          "base_uri": "https://localhost:8080/",
          "height": 68
        },
        "outputId": "787ec476-dc1c-4724-b4b9-a389fe8f8449"
      },
      "source": [
        "from numpy import random\n",
        "\n",
        "x = random.rand(3, 5)\n",
        "\n",
        "print(x)"
      ],
      "execution_count": null,
      "outputs": [
        {
          "output_type": "stream",
          "text": [
            "[[0.4258151  0.6030451  0.17840302 0.02878672 0.69512394]\n",
            " [0.84138451 0.86041502 0.91693007 0.97236118 0.4693497 ]\n",
            " [0.49792763 0.64544949 0.50039491 0.07485809 0.1733233 ]]\n"
          ],
          "name": "stdout"
        }
      ]
    },
    {
      "cell_type": "markdown",
      "metadata": {
        "id": "AgwouZSGa2eP"
      },
      "source": [
        "##Generate Random Number From Array\n",
        "The choice() method allows you to generate a random value based on an array of values.\n",
        "\n",
        "The choice() method takes an array as a parameter and randomly returns one of the values."
      ]
    },
    {
      "cell_type": "markdown",
      "metadata": {
        "id": "HirMqc4la66v"
      },
      "source": [
        "**Example**\n",
        "\n",
        "Return one of the values in an array:"
      ]
    },
    {
      "cell_type": "code",
      "metadata": {
        "id": "VdZbZmdxazh3",
        "colab": {
          "base_uri": "https://localhost:8080/",
          "height": 34
        },
        "outputId": "51f06bcf-04df-41e6-c1cc-3c477370731c"
      },
      "source": [
        "from numpy import random\n",
        "\n",
        "x = random.choice([3, 5, 7, 9])\n",
        "\n",
        "print(x)"
      ],
      "execution_count": null,
      "outputs": [
        {
          "output_type": "stream",
          "text": [
            "5\n"
          ],
          "name": "stdout"
        }
      ]
    },
    {
      "cell_type": "markdown",
      "metadata": {
        "id": "_aWGcdU1bBCv"
      },
      "source": [
        "The `choice()` method also allows you to return an *array* of values.\n",
        "\n",
        "Add a `size` parameter to specify the shape of the array."
      ]
    },
    {
      "cell_type": "markdown",
      "metadata": {
        "id": "bhfKN8hbbQDg"
      },
      "source": [
        "**Example**\n",
        "\n",
        "Generate a 2-D array that consists of the values in the array parameter (3, 5, 7, and 9):"
      ]
    },
    {
      "cell_type": "code",
      "metadata": {
        "id": "nyA85ul7a-I4",
        "colab": {
          "base_uri": "https://localhost:8080/",
          "height": 68
        },
        "outputId": "5891d3ea-ee7a-4ca8-841b-a4011ba90c21"
      },
      "source": [
        "from numpy import random\n",
        "\n",
        "x = random.choice([3, 5, 7, 9], size=(3, 5))\n",
        "\n",
        "print(x)"
      ],
      "execution_count": null,
      "outputs": [
        {
          "output_type": "stream",
          "text": [
            "[[3 3 3 3 9]\n",
            " [5 3 5 5 3]\n",
            " [7 7 5 3 7]]\n"
          ],
          "name": "stdout"
        }
      ]
    },
    {
      "cell_type": "code",
      "metadata": {
        "id": "CBEDHTEpbUNJ"
      },
      "source": [
        ""
      ],
      "execution_count": null,
      "outputs": []
    }
  ]
}