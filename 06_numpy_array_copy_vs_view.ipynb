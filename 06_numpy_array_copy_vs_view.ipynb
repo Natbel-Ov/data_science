{
  "nbformat": 4,
  "nbformat_minor": 0,
  "metadata": {
    "colab": {
      "name": "06_numpy_array_copy_vs_view.ipynb",
      "provenance": [],
      "collapsed_sections": [],
      "include_colab_link": true
    },
    "kernelspec": {
      "name": "python3",
      "display_name": "Python 3"
    }
  },
  "cells": [
    {
      "cell_type": "markdown",
      "metadata": {
        "id": "view-in-github",
        "colab_type": "text"
      },
      "source": [
        "<a href=\"https://colab.research.google.com/github/Natbel-Ov/data_science/blob/main/06_numpy_array_copy_vs_view.ipynb\" target=\"_parent\"><img src=\"https://colab.research.google.com/assets/colab-badge.svg\" alt=\"Open In Colab\"/></a>"
      ]
    },
    {
      "cell_type": "markdown",
      "metadata": {
        "id": "5dom3dDWZpt2"
      },
      "source": [
        "#NumPy Array Copy vs View"
      ]
    },
    {
      "cell_type": "markdown",
      "metadata": {
        "id": "Di6WDYwXZ7QU"
      },
      "source": [
        "##The Difference Between Copy and View\n",
        "The main difference between a copy and a view of an array is that the copy is a new array, and the view is just a view of the original array.\n",
        "\n",
        "The copy owns the data and any changes made to the copy will not affect original array, and any changes made to the original array will not affect the copy.\n",
        "\n",
        "The view does not own the data and any changes made to the view will affect the original array, and any changes made to the original array will affect the view.\n",
        "\n",
        "###COPY:\n"
      ]
    },
    {
      "cell_type": "markdown",
      "metadata": {
        "id": "iHeBLt2naEW4"
      },
      "source": [
        "**Example**\n",
        "\n",
        "Make a copy, change the original array, and display both arrays:"
      ]
    },
    {
      "cell_type": "code",
      "metadata": {
        "id": "Rfgb_BEEZo5_",
        "colab": {
          "base_uri": "https://localhost:8080/",
          "height": 51
        },
        "outputId": "7e6345e9-0d9c-44b4-c79d-1646157ff933"
      },
      "source": [
        "import numpy as np\n",
        "\n",
        "arr = np.array([1, 2, 3, 4, 5])\n",
        "x = arr.copy()\n",
        "arr[0] = 42\n",
        "\n",
        "print(arr)\n",
        "print(x)"
      ],
      "execution_count": null,
      "outputs": [
        {
          "output_type": "stream",
          "text": [
            "[42  2  3  4  5]\n",
            "[1 2 3 4 5]\n"
          ],
          "name": "stdout"
        }
      ]
    },
    {
      "cell_type": "markdown",
      "metadata": {
        "id": "Dkqs0PJFaMsw"
      },
      "source": [
        "> The copy SHOULD NOT be affected by the changes made to the original array."
      ]
    },
    {
      "cell_type": "markdown",
      "metadata": {
        "id": "fbRizY_aaSgN"
      },
      "source": [
        "###VIEW:\n"
      ]
    },
    {
      "cell_type": "markdown",
      "metadata": {
        "id": "rkh_AgdzaW9P"
      },
      "source": [
        "**Example**\n",
        "\n",
        "Make a view, change the original array, and display both arrays:"
      ]
    },
    {
      "cell_type": "code",
      "metadata": {
        "id": "Ylv-XCRgaJgq",
        "colab": {
          "base_uri": "https://localhost:8080/",
          "height": 51
        },
        "outputId": "42fd9aae-d68b-48b2-e0d2-93937c106b37"
      },
      "source": [
        "import numpy as np\n",
        "\n",
        "arr = np.array([1, 2, 3, 4, 5])\n",
        "x = arr.view()\n",
        "arr[0] = 42\n",
        "\n",
        "print(arr)\n",
        "print(x)"
      ],
      "execution_count": null,
      "outputs": [
        {
          "output_type": "stream",
          "text": [
            "[42  2  3  4  5]\n",
            "[42  2  3  4  5]\n"
          ],
          "name": "stdout"
        }
      ]
    },
    {
      "cell_type": "markdown",
      "metadata": {
        "id": "YcaJg_vtafmH"
      },
      "source": [
        "> The view SHOULD be affected by the changes made to the original array."
      ]
    },
    {
      "cell_type": "markdown",
      "metadata": {
        "id": "GTUpF7JtajxD"
      },
      "source": [
        "##Make Changes in the VIEW:\n",
        "\n"
      ]
    },
    {
      "cell_type": "markdown",
      "metadata": {
        "id": "ztKTdmXEasTm"
      },
      "source": [
        "**Example**\n",
        "\n",
        "Make a view, change the view, and display both arrays:"
      ]
    },
    {
      "cell_type": "code",
      "metadata": {
        "id": "hD5tvX2NasEl",
        "colab": {
          "base_uri": "https://localhost:8080/",
          "height": 51
        },
        "outputId": "95558beb-1399-4808-d35a-5b0be070693b"
      },
      "source": [
        "import numpy as np\n",
        "\n",
        "arr = np.array([1, 2, 3, 4, 5])\n",
        "x = arr.view()\n",
        "x[0] = 31\n",
        "\n",
        "print(arr)\n",
        "print(x)"
      ],
      "execution_count": null,
      "outputs": [
        {
          "output_type": "stream",
          "text": [
            "[31  2  3  4  5]\n",
            "[31  2  3  4  5]\n"
          ],
          "name": "stdout"
        }
      ]
    },
    {
      "cell_type": "markdown",
      "metadata": {
        "id": "7LVgG_QHa0Sk"
      },
      "source": [
        "> The original array SHOULD be affected by the changes made to the view."
      ]
    },
    {
      "cell_type": "markdown",
      "metadata": {
        "id": "iwTu9C-Ta5GH"
      },
      "source": [
        "##Check if Array Owns it's Data\n",
        "As mentioned above, copies owns the data, and views does not own the data, but how can we check this?\n",
        "\n",
        "Every NumPy array has the attribute base that returns None if the array owns the data.\n",
        "\n",
        "Otherwise, the base  attribute refers to the original object.\n",
        "\n"
      ]
    },
    {
      "cell_type": "markdown",
      "metadata": {
        "id": "s2sw8r3Ga0Ga"
      },
      "source": [
        "**Example**\n",
        "\n",
        "Print the value of the base attribute to check if an array owns it's data or not:"
      ]
    },
    {
      "cell_type": "code",
      "metadata": {
        "id": "WXnBqGXfabjz",
        "colab": {
          "base_uri": "https://localhost:8080/",
          "height": 51
        },
        "outputId": "7903b481-d759-47a7-bba0-6882e0a99d4e"
      },
      "source": [
        "import numpy as np\n",
        "\n",
        "arr = np.array([1, 2, 3, 4, 5])\n",
        "\n",
        "x = arr.copy()\n",
        "y = arr.view()\n",
        "\n",
        "print(x.base)\n",
        "print(y.base)"
      ],
      "execution_count": null,
      "outputs": [
        {
          "output_type": "stream",
          "text": [
            "None\n",
            "[1 2 3 4 5]\n"
          ],
          "name": "stdout"
        }
      ]
    },
    {
      "cell_type": "markdown",
      "metadata": {
        "id": "nOhAeBpVbPxx"
      },
      "source": [
        "> The copy returns None.\n",
        "\n",
        "> The view returns the original array.\n"
      ]
    },
    {
      "cell_type": "code",
      "metadata": {
        "id": "GskagaCHbxOy"
      },
      "source": [
        ""
      ],
      "execution_count": null,
      "outputs": []
    }
  ]
}