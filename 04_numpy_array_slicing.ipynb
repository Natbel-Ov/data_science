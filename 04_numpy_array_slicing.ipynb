{
  "nbformat": 4,
  "nbformat_minor": 0,
  "metadata": {
    "colab": {
      "name": "04_numpy_array_slicing.ipynb",
      "provenance": [],
      "collapsed_sections": [],
      "include_colab_link": true
    },
    "kernelspec": {
      "name": "python3",
      "display_name": "Python 3"
    }
  },
  "cells": [
    {
      "cell_type": "markdown",
      "metadata": {
        "id": "view-in-github",
        "colab_type": "text"
      },
      "source": [
        "<a href=\"https://colab.research.google.com/github/Natbel-Ov/data_science/blob/main/04_numpy_array_slicing.ipynb\" target=\"_parent\"><img src=\"https://colab.research.google.com/assets/colab-badge.svg\" alt=\"Open In Colab\"/></a>"
      ]
    },
    {
      "cell_type": "markdown",
      "metadata": {
        "id": "dkG-b2RcFhVy"
      },
      "source": [
        "#NumPy Array Slicing"
      ]
    },
    {
      "cell_type": "markdown",
      "metadata": {
        "id": "fl3bbFz8FqxN"
      },
      "source": [
        "##Slicing arrays\n",
        "Slicing in python means taking elements from one given index to another given index.\n",
        "\n",
        "We pass slice instead of index like this: `[start:end]`.\n",
        "\n",
        "We can also define the step, like this: [start:end:step].\n",
        "\n",
        "If we don't pass start its considered 0\n",
        "\n",
        "If we don't pass end its considered length of array in that dimension\n",
        "\n",
        "If we don't pass step its considered 1\n"
      ]
    },
    {
      "cell_type": "markdown",
      "metadata": {
        "id": "W0__GibJFwS1"
      },
      "source": [
        "**Example**\n",
        "\n",
        "Slice elements from index 1 to index 5 from the following array:"
      ]
    },
    {
      "cell_type": "code",
      "metadata": {
        "id": "vmTl8kCJFpqq",
        "colab": {
          "base_uri": "https://localhost:8080/",
          "height": 34
        },
        "outputId": "39a453da-ba24-4fc1-8e9e-474d32fdb602"
      },
      "source": [
        "import numpy as np\n",
        "\n",
        "arr = np.array([1, 2, 3, 4, 5, 6, 7])\n",
        "print(arr[1:5])"
      ],
      "execution_count": null,
      "outputs": [
        {
          "output_type": "stream",
          "text": [
            "[2 3 4 5]\n"
          ],
          "name": "stdout"
        }
      ]
    },
    {
      "cell_type": "markdown",
      "metadata": {
        "id": "N5s8C2a9O8SR"
      },
      "source": [
        "> **Note:** The result includes the start index, but excludes the end index.\n",
        "\n"
      ]
    },
    {
      "cell_type": "markdown",
      "metadata": {
        "id": "kOkfuM0PPEWM"
      },
      "source": [
        "**Example**\n",
        "\n",
        "Slice elements from index 4 to the end of the array:"
      ]
    },
    {
      "cell_type": "code",
      "metadata": {
        "id": "0G5OTxqJF1Vi",
        "colab": {
          "base_uri": "https://localhost:8080/",
          "height": 34
        },
        "outputId": "956c8fc9-df2a-4f7d-f963-d580a8540e0c"
      },
      "source": [
        "import numpy as np\n",
        "\n",
        "arr = np.array([1, 2, 3, 4, 5, 6, 7])\n",
        "print(arr[4:])"
      ],
      "execution_count": null,
      "outputs": [
        {
          "output_type": "stream",
          "text": [
            "[5 6 7]\n"
          ],
          "name": "stdout"
        }
      ]
    },
    {
      "cell_type": "markdown",
      "metadata": {
        "id": "YnXftNJePMpc"
      },
      "source": [
        "**Example**\n",
        "Slice elements from the beginning to index 4 (not included):"
      ]
    },
    {
      "cell_type": "code",
      "metadata": {
        "id": "dSKXoEGdPIbC",
        "colab": {
          "base_uri": "https://localhost:8080/",
          "height": 34
        },
        "outputId": "960941e8-d2a6-464d-c64f-c7e528eba3e6"
      },
      "source": [
        "import numpy as np\n",
        "\n",
        "arr = np.array([1, 2, 3, 4, 5, 6, 7])\n",
        "print(arr[:4])"
      ],
      "execution_count": null,
      "outputs": [
        {
          "output_type": "stream",
          "text": [
            "[1 2 3 4]\n"
          ],
          "name": "stdout"
        }
      ]
    },
    {
      "cell_type": "markdown",
      "metadata": {
        "id": "Gj5VNOFfPXS1"
      },
      "source": [
        "##Negative Slicing\n",
        "Use the minus operator to refer to an index from the end:\n",
        "\n"
      ]
    },
    {
      "cell_type": "markdown",
      "metadata": {
        "id": "cX3PqTiQPdTu"
      },
      "source": [
        "**Example**\n",
        "\n",
        "Slice from the index 3 from the end to index 1 from the end:"
      ]
    },
    {
      "cell_type": "code",
      "metadata": {
        "id": "RxnkqYiaPR_A",
        "colab": {
          "base_uri": "https://localhost:8080/",
          "height": 34
        },
        "outputId": "1d478f63-ddf8-45ef-9894-91817f063383"
      },
      "source": [
        "import numpy as np\n",
        "\n",
        "arr = np.array([1, 2, 3, 4, 5, 6, 7])\n",
        "print(arr[-3:-1])"
      ],
      "execution_count": null,
      "outputs": [
        {
          "output_type": "stream",
          "text": [
            "[5 6]\n"
          ],
          "name": "stdout"
        }
      ]
    },
    {
      "cell_type": "markdown",
      "metadata": {
        "id": "vvPpUhftPkTl"
      },
      "source": [
        "##STEP\n",
        "Use the step value to determine the step of the slicing:\n"
      ]
    },
    {
      "cell_type": "markdown",
      "metadata": {
        "id": "LxRwkSG7PwO_"
      },
      "source": [
        "**Example**\n",
        "\n",
        "Return every other element from index 1 to \n",
        "index 5:"
      ]
    },
    {
      "cell_type": "code",
      "metadata": {
        "id": "9nWmi7zAPhIV",
        "colab": {
          "base_uri": "https://localhost:8080/",
          "height": 34
        },
        "outputId": "99e9305d-9655-4892-b83c-5b8ee560c773"
      },
      "source": [
        "import numpy as np\n",
        "\n",
        "arr = np.array([1, 2, 3, 4, 5, 6, 7])\n",
        "print(arr[1:5:2])"
      ],
      "execution_count": null,
      "outputs": [
        {
          "output_type": "stream",
          "text": [
            "[2 4]\n"
          ],
          "name": "stdout"
        }
      ]
    },
    {
      "cell_type": "markdown",
      "metadata": {
        "id": "pYhU01PuP2yB"
      },
      "source": [
        "**Example**\n",
        "\n",
        "Return every other element from the entire array:"
      ]
    },
    {
      "cell_type": "code",
      "metadata": {
        "id": "swGSJdAMP0cQ",
        "colab": {
          "base_uri": "https://localhost:8080/",
          "height": 34
        },
        "outputId": "21149f31-7b1f-4674-9d11-6c91ffc80220"
      },
      "source": [
        "import numpy as np\n",
        "\n",
        "arr = np.array([1, 2, 3, 4, 5, 6, 7]) \n",
        "print(arr[::2])"
      ],
      "execution_count": null,
      "outputs": [
        {
          "output_type": "stream",
          "text": [
            "[1 3 5 7]\n"
          ],
          "name": "stdout"
        }
      ]
    },
    {
      "cell_type": "markdown",
      "metadata": {
        "id": "iCYtWlWTQGSQ"
      },
      "source": [
        "##Slicing 2-D Arrays\n"
      ]
    },
    {
      "cell_type": "markdown",
      "metadata": {
        "id": "qlEVnzuyQM7C"
      },
      "source": [
        "**Example**\n",
        "\n",
        "From the second element, slice elements from index 1 to index 4 (not included):\n",
        "\n"
      ]
    },
    {
      "cell_type": "code",
      "metadata": {
        "id": "lOOCzMZlQAVg",
        "colab": {
          "base_uri": "https://localhost:8080/",
          "height": 34
        },
        "outputId": "e0d22103-de03-44da-9f3a-65270be638ac"
      },
      "source": [
        "import numpy as np\n",
        "\n",
        "arr = np.array([[1, 2, 3, 4, 5], [6, 7, 8, 9, 10]])\n",
        "print(arr[1, 1:4])"
      ],
      "execution_count": null,
      "outputs": [
        {
          "output_type": "stream",
          "text": [
            "[7 8 9]\n"
          ],
          "name": "stdout"
        }
      ]
    },
    {
      "cell_type": "markdown",
      "metadata": {
        "id": "DfKOJRwNQ_AP"
      },
      "source": [
        "> **Note:** Remember that second element has index 1."
      ]
    },
    {
      "cell_type": "markdown",
      "metadata": {
        "id": "lpxDgUr2RFtk"
      },
      "source": [
        "**Example**\n",
        "\n",
        "From both elements, return index 2:\n",
        "\n"
      ]
    },
    {
      "cell_type": "code",
      "metadata": {
        "id": "83T_MsPxQPoH",
        "colab": {
          "base_uri": "https://localhost:8080/",
          "height": 34
        },
        "outputId": "21473197-2fbd-47a2-e520-12c6096931ec"
      },
      "source": [
        "import numpy as np\n",
        "\n",
        "arr = np.array([[1, 2, 3, 4, 5], [6, 7, 8, 9, 10]])\n",
        "print(arr[0:2, 2])"
      ],
      "execution_count": null,
      "outputs": [
        {
          "output_type": "stream",
          "text": [
            "[3 8]\n"
          ],
          "name": "stdout"
        }
      ]
    },
    {
      "cell_type": "markdown",
      "metadata": {
        "id": "uHWA79TtRN6V"
      },
      "source": [
        "**Example**\n",
        "\n",
        "From both elements, slice index 1 to index 4 (not included), this will return a 2-D array:\n",
        "\n"
      ]
    },
    {
      "cell_type": "code",
      "metadata": {
        "id": "DR8vXE5oRKq-",
        "colab": {
          "base_uri": "https://localhost:8080/",
          "height": 51
        },
        "outputId": "3de10de7-1b38-4461-8a3e-88a0734e7079"
      },
      "source": [
        "import numpy as np\n",
        "\n",
        "arr = np.array([[1, 2, 3, 4, 5], [6, 7, 8, 9, 10]])\n",
        "print(arr[0:2, 1:4])"
      ],
      "execution_count": null,
      "outputs": [
        {
          "output_type": "stream",
          "text": [
            "[[2 3 4]\n",
            " [7 8 9]]\n"
          ],
          "name": "stdout"
        }
      ]
    },
    {
      "cell_type": "code",
      "metadata": {
        "id": "oGy2EQ4sRSFp"
      },
      "source": [
        ""
      ],
      "execution_count": null,
      "outputs": []
    }
  ]
}