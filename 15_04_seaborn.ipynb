{
  "nbformat": 4,
  "nbformat_minor": 0,
  "metadata": {
    "colab": {
      "name": "15_04_seaborn.ipynb",
      "provenance": [],
      "collapsed_sections": [],
      "include_colab_link": true
    },
    "kernelspec": {
      "name": "python3",
      "display_name": "Python 3"
    }
  },
  "cells": [
    {
      "cell_type": "markdown",
      "metadata": {
        "id": "view-in-github",
        "colab_type": "text"
      },
      "source": [
        "<a href=\"https://colab.research.google.com/github/Natbel-Ov/data_science/blob/main/15_04_seaborn.ipynb\" target=\"_parent\"><img src=\"https://colab.research.google.com/assets/colab-badge.svg\" alt=\"Open In Colab\"/></a>"
      ]
    },
    {
      "cell_type": "markdown",
      "metadata": {
        "id": "FWZ9Wyf_hSQp"
      },
      "source": [
        "#Seaborn"
      ]
    },
    {
      "cell_type": "markdown",
      "metadata": {
        "id": "YOR3kxoBhWJN"
      },
      "source": [
        "##Visualize Distributions With Seaborn\n",
        "Seaborn is a library that uses Matplotlib underneath to plot graphs. It will be used to visualize random distributions."
      ]
    },
    {
      "cell_type": "markdown",
      "metadata": {
        "id": "ez-A0M_qjJVv"
      },
      "source": [
        "![Seaborn Image](https://drive.google.com/uc?id=1x6wCfF7I7NpiV8-AgH7Qkgk7EQ22ZTQ0)"
      ]
    },
    {
      "cell_type": "markdown",
      "metadata": {
        "id": "Xt5TFNrBkPX2"
      },
      "source": [
        "##Install Seaborn.\n",
        "If you have Python and PIP already installed on a system, install it using this command:\n",
        "\n",
        "> `pip install seaborn`"
      ]
    },
    {
      "cell_type": "markdown",
      "metadata": {
        "id": "LgCqb8TJkWXm"
      },
      "source": [
        "If you use Jupyter, install Seaborn using this command:\n",
        "> `!pip install seaborn`"
      ]
    },
    {
      "cell_type": "markdown",
      "metadata": {
        "id": "AI5GCIR9ktr-"
      },
      "source": [
        "##Distplots\n",
        "Distplot stands for distribution plot, it takes as input an array and plots a curve corresponding to the distribution of points in the array.\n",
        "\n",
        "##Import Matplotlib\n",
        "import the pyplot object of the Matplotlib module in your code using following code\n",
        "\n",
        "> `import matplotlib.pyplot as plt`\n",
        "\n",
        "##Import Seaborn\n",
        "import the seaborn in your code using following code\n",
        "\n",
        "> `import seaborn as sns`"
      ]
    },
    {
      "cell_type": "markdown",
      "metadata": {
        "id": "vRRZXIH9lFj-"
      },
      "source": [
        "##Plotting a Displot"
      ]
    },
    {
      "cell_type": "markdown",
      "metadata": {
        "id": "eMR3IEX0lJ82"
      },
      "source": [
        "**Example**"
      ]
    },
    {
      "cell_type": "code",
      "metadata": {
        "id": "euFEvu1lkehr",
        "colab": {
          "base_uri": "https://localhost:8080/",
          "height": 319
        },
        "outputId": "43268087-17c2-4410-a6f6-9ba3bb0137b7"
      },
      "source": [
        "import matplotlib.pyplot as plt\n",
        "import seaborn as sns\n",
        "\n",
        "sns.distplot([0, 1, 2, 3, 4, 5])\n",
        "\n",
        "plt.show()"
      ],
      "execution_count": null,
      "outputs": [
        {
          "output_type": "stream",
          "text": [
            "/usr/local/lib/python3.6/dist-packages/statsmodels/tools/_testing.py:19: FutureWarning: pandas.util.testing is deprecated. Use the functions in the public API at pandas.testing instead.\n",
            "  import pandas.util.testing as tm\n"
          ],
          "name": "stderr"
        },
        {
          "output_type": "display_data",
          "data": {
            "image/png": "[encoded data removed]",
            "text/plain": [
              "<Figure size 432x288 with 1 Axes>"
            ]
          },
          "metadata": {
            "tags": [],
            "needs_background": "light"
          }
        }
      ]
    },
    {
      "cell_type": "markdown",
      "metadata": {
        "id": "NautGF7KlZ5Z"
      },
      "source": [
        "##Plotting a Distplot Without the Histogram"
      ]
    },
    {
      "cell_type": "markdown",
      "metadata": {
        "id": "gayurdgrlfcX"
      },
      "source": [
        "**Example**"
      ]
    },
    {
      "cell_type": "code",
      "metadata": {
        "id": "WhVrU9fElNQn",
        "colab": {
          "base_uri": "https://localhost:8080/",
          "height": 265
        },
        "outputId": "31878cde-0a42-43be-a022-33394c69f7fa"
      },
      "source": [
        "import matplotlib.pyplot as plt\n",
        "import seaborn as sns\n",
        "\n",
        "sns.distplot([0, 1, 2, 3, 4, 5], hist=False)\n",
        "\n",
        "plt.show()"
      ],
      "execution_count": null,
      "outputs": [
        {
          "output_type": "display_data",
          "data": {
            "image/png": "[encoded data removed]",
            "text/plain": [
              "<Figure size 432x288 with 1 Axes>"
            ]
          },
          "metadata": {
            "tags": [],
            "needs_background": "light"
          }
        }
      ]
    },
    {
      "cell_type": "markdown",
      "metadata": {
        "id": "FvE7-iNS9R8c"
      },
      "source": [
        "> **Note:** We will be using: `sns.distplot(arr, hist=False)` to visualize random distributions in this tutorial."
      ]
    },
    {
      "cell_type": "code",
      "metadata": {
        "id": "7A_9iaIvljCg"
      },
      "source": [
        ""
      ],
      "execution_count": null,
      "outputs": []
    }
  ]
}