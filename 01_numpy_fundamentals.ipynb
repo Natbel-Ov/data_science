{
  "nbformat": 4,
  "nbformat_minor": 0,
  "metadata": {
    "colab": {
      "name": "01_numpy_fundamentals.ipynb",
      "provenance": [],
      "collapsed_sections": [],
      "include_colab_link": true
    },
    "kernelspec": {
      "name": "python3",
      "display_name": "Python 3"
    }
  },
  "cells": [
    {
      "cell_type": "markdown",
      "metadata": {
        "id": "view-in-github",
        "colab_type": "text"
      },
      "source": [
        "<a href=\"https://colab.research.google.com/github/Natbel-Ov/data_science/blob/main/01_numpy_fundamentals.ipynb\" target=\"_parent\"><img src=\"https://colab.research.google.com/assets/colab-badge.svg\" alt=\"Open In Colab\"/></a>"
      ]
    },
    {
      "cell_type": "markdown",
      "metadata": {
        "id": "XfiAQqwAx-ui"
      },
      "source": [
        "#NUMPY FUNDAMENTALS\n",
        "\n",
        "##What is NumPy?\n",
        "\n",
        "NumPy is a python library used for working with arrays.\n",
        "\n",
        "It also has functions for working in domain of linear algebra, fourier transform, and matrices.\n",
        "\n",
        "NumPy was created in 2005 by Travis Oliphant. It is an open source project and you can use it freely.\n",
        "\n",
        "NumPy stands for Numerical Python.\n"
      ]
    },
    {
      "cell_type": "markdown",
      "metadata": {
        "id": "bqKdFuxB5F0v"
      },
      "source": [
        "##Why Use NumPy ?\n",
        "\n",
        "In Python we have lists that serve the purpose of arrays, but they are slow to process.\n",
        "\n",
        "NumPy aims to provide an array object that is up to 50x faster that traditional Python lists.\n",
        "\n",
        "The array object in NumPy is called ndarray, it provides a lot of supporting functions that make working with ndarray very easy.\n",
        "\n",
        "Arrays are very frequData Science:**ently** used in data science, where speed and resources are very important.\n",
        "\n",
        "> **Data Science:** is a branch of computer science where we study how to store, use and analyze data for deriving information from it."
      ]
    },
    {
      "cell_type": "markdown",
      "metadata": {
        "id": "-MFZXdR9wujQ"
      },
      "source": [
        "##NumPy Getting Started \n",
        "###Import NumPy\n",
        "\n",
        "NumPy is usually imported under the np alias.\n",
        "\n",
        "**alias**: In Python alias are an alternate name for referring to the same thing."
      ]
    },
    {
      "cell_type": "code",
      "metadata": {
        "id": "lFWfckwnxQTK"
      },
      "source": [
        "import numpy as np"
      ],
      "execution_count": null,
      "outputs": []
    },
    {
      "cell_type": "markdown",
      "metadata": {
        "id": "dBItbizXxa2I"
      },
      "source": [
        "Example"
      ]
    },
    {
      "cell_type": "code",
      "metadata": {
        "id": "DjU1Dqs5xe_l",
        "colab": {
          "base_uri": "https://localhost:8080/",
          "height": 34
        },
        "outputId": "de39e169-13d0-4512-bf6b-28cda5370acc"
      },
      "source": [
        "import numpy as np\n",
        "arr = np.array([1, 2, 3, 4, 5])\n",
        "print(arr)"
      ],
      "execution_count": null,
      "outputs": [
        {
          "output_type": "stream",
          "text": [
            "[1 2 3 4 5]\n"
          ],
          "name": "stdout"
        }
      ]
    },
    {
      "cell_type": "markdown",
      "metadata": {
        "id": "RBdceFoKwOyr"
      },
      "source": [
        "###Checking NumPy Version\n",
        "The version string is stored under __version__ attribute."
      ]
    },
    {
      "cell_type": "markdown",
      "metadata": {
        "id": "1COWXE81ybqH"
      },
      "source": [
        "**Example**"
      ]
    },
    {
      "cell_type": "code",
      "metadata": {
        "id": "oOP-DHUDwArm",
        "colab": {
          "base_uri": "https://localhost:8080/",
          "height": 34
        },
        "outputId": "62515735-8875-4ac8-9aba-b7ab26aebbd9"
      },
      "source": [
        "import numpy as np\n",
        "\n",
        "print(np.__version__)"
      ],
      "execution_count": null,
      "outputs": [
        {
          "output_type": "stream",
          "text": [
            "1.18.3\n"
          ],
          "name": "stdout"
        }
      ]
    },
    {
      "cell_type": "code",
      "metadata": {
        "id": "PhuOyjU97R3V"
      },
      "source": [
        ""
      ],
      "execution_count": null,
      "outputs": []
    }
  ]
}