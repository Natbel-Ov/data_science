{
  "nbformat": 4,
  "nbformat_minor": 0,
  "metadata": {
    "colab": {
      "name": "12_numpy_searching_arrays.ipynb",
      "provenance": [],
      "collapsed_sections": [],
      "include_colab_link": true
    },
    "kernelspec": {
      "name": "python3",
      "display_name": "Python 3"
    }
  },
  "cells": [
    {
      "cell_type": "markdown",
      "metadata": {
        "id": "view-in-github",
        "colab_type": "text"
      },
      "source": [
        "<a href=\"https://colab.research.google.com/github/Natbel-Ov/data_science/blob/main/12_numpy_searching_arrays.ipynb\" target=\"_parent\"><img src=\"https://colab.research.google.com/assets/colab-badge.svg\" alt=\"Open In Colab\"/></a>"
      ]
    },
    {
      "cell_type": "markdown",
      "metadata": {
        "id": "ex3QPIw0UQd3"
      },
      "source": [
        "#NumPy Searching Arrays"
      ]
    },
    {
      "cell_type": "markdown",
      "metadata": {
        "id": "Vm5JiO7yUWBi"
      },
      "source": [
        "##Searching Arrays\n",
        "You can search an array for a certain value, and return the indexes that get a match.\n",
        "\n",
        "To search an array, use the where() method.\n",
        "\n"
      ]
    },
    {
      "cell_type": "markdown",
      "metadata": {
        "id": "0ukVPB3DUZ6-"
      },
      "source": [
        "**Example**\n",
        "\n",
        "Find the indexes where the value is 4:"
      ]
    },
    {
      "cell_type": "code",
      "metadata": {
        "id": "mCmEtZj4UH2Z",
        "colab": {
          "base_uri": "https://localhost:8080/",
          "height": 34
        },
        "outputId": "71dacd18-7d9a-466b-d293-2b355aa6dddf"
      },
      "source": [
        "import numpy as np\n",
        "\n",
        "arr = np.array([1, 2, 3, 4, 5, 4, 4])\n",
        "\n",
        "x = np.where(arr == 4)\n",
        "\n",
        "print(x)"
      ],
      "execution_count": null,
      "outputs": [
        {
          "output_type": "stream",
          "text": [
            "(array([3, 5, 6]),)\n"
          ],
          "name": "stdout"
        }
      ]
    },
    {
      "cell_type": "markdown",
      "metadata": {
        "id": "1WUZlxhoUf0W"
      },
      "source": [
        "The example above will return a tuple: (array([3, 5, 6],)\n",
        "\n",
        "Which means that the value 4 is present at index 3, 5, and 6."
      ]
    },
    {
      "cell_type": "markdown",
      "metadata": {
        "id": "zPIWGmFfUlNe"
      },
      "source": [
        "**Example**\n",
        "\n",
        "Find the indexes where the values are even:"
      ]
    },
    {
      "cell_type": "code",
      "metadata": {
        "id": "v5dR28b_Uc0H",
        "colab": {
          "base_uri": "https://localhost:8080/",
          "height": 34
        },
        "outputId": "9d67deee-c972-4433-d6a8-69cb9151727c"
      },
      "source": [
        "import numpy as np\n",
        "\n",
        "arr = np.array([1, 2, 3, 4, 5, 6, 7, 8])\n",
        "\n",
        "x = np.where(arr%2 == 0)\n",
        "\n",
        "print(x)"
      ],
      "execution_count": null,
      "outputs": [
        {
          "output_type": "stream",
          "text": [
            "(array([1, 3, 5, 7]),)\n"
          ],
          "name": "stdout"
        }
      ]
    },
    {
      "cell_type": "markdown",
      "metadata": {
        "id": "Xd1ck2i4UrEf"
      },
      "source": [
        "**Example**\n",
        "\n",
        "Find the indexes where the values are odd:"
      ]
    },
    {
      "cell_type": "code",
      "metadata": {
        "id": "a0F6JZEjUoAg",
        "colab": {
          "base_uri": "https://localhost:8080/",
          "height": 34
        },
        "outputId": "9a99cbed-dabe-46bf-aff5-f34e27a8a748"
      },
      "source": [
        "import numpy as np\n",
        "\n",
        "arr = np.array([1, 2, 3, 4, 5, 6, 7, 8])\n",
        "\n",
        "x = np.where(arr%2 == 1)\n",
        "\n",
        "print(x)"
      ],
      "execution_count": null,
      "outputs": [
        {
          "output_type": "stream",
          "text": [
            "(array([0, 2, 4, 6]),)\n"
          ],
          "name": "stdout"
        }
      ]
    },
    {
      "cell_type": "markdown",
      "metadata": {
        "id": "5ThX3_BmUyOP"
      },
      "source": [
        "##Search Sorted\n",
        "There is a method called searchsorted() which performs a binary search in the array, and returns the index where the specified value would be inserted to maintain the search order.\n",
        "\n",
        "The searchsorted() method is assumed to be used on sorted arrays."
      ]
    },
    {
      "cell_type": "markdown",
      "metadata": {
        "id": "miMfVMGxU3P_"
      },
      "source": [
        "**Example**\n",
        "\n",
        "Find the indexes where the value 7 should be inserted:"
      ]
    },
    {
      "cell_type": "code",
      "metadata": {
        "id": "XjrvY9S7UvMk",
        "colab": {
          "base_uri": "https://localhost:8080/",
          "height": 34
        },
        "outputId": "6eb5fb0e-14f2-4ab4-b149-78d85b68578f"
      },
      "source": [
        "import numpy as np\n",
        "\n",
        "arr = np.array([6, 7, 8, 9])\n",
        "\n",
        "x = np.searchsorted(arr, 7)\n",
        "\n",
        "print(x)"
      ],
      "execution_count": null,
      "outputs": [
        {
          "output_type": "stream",
          "text": [
            "1\n"
          ],
          "name": "stdout"
        }
      ]
    },
    {
      "cell_type": "markdown",
      "metadata": {
        "id": "Q2jlJC1bU93P"
      },
      "source": [
        "Example explained: The number 7 should be inserted on index 1 to remain the sort order.\n",
        "\n",
        "The method starts the search from the left and returns the first index where the number 7 is no longer larger than the next value."
      ]
    },
    {
      "cell_type": "markdown",
      "metadata": {
        "id": "HdlSr30lVD2g"
      },
      "source": [
        "##Search From the Right Side\n",
        "By default the left most index is returned, but we can give side='right' to return the right most index instead.\n"
      ]
    },
    {
      "cell_type": "markdown",
      "metadata": {
        "id": "MQOOMoItVGjv"
      },
      "source": [
        "**Example**\n",
        "\n",
        "Find the indexes where the value 7 should be inserted, starting from the right:"
      ]
    },
    {
      "cell_type": "code",
      "metadata": {
        "id": "yd7mnxUCU6Sg",
        "colab": {
          "base_uri": "https://localhost:8080/",
          "height": 34
        },
        "outputId": "e562b7aa-4d11-4ef9-b0b4-62f80abcb659"
      },
      "source": [
        "import numpy as np\n",
        "\n",
        "arr = np.array([6, 7, 8, 9])\n",
        "\n",
        "x = np.searchsorted(arr, 7, side='right')\n",
        "\n",
        "print(x)"
      ],
      "execution_count": null,
      "outputs": [
        {
          "output_type": "stream",
          "text": [
            "2\n"
          ],
          "name": "stdout"
        }
      ]
    },
    {
      "cell_type": "markdown",
      "metadata": {
        "id": "5FMIj4h-VO9g"
      },
      "source": [
        "Example explained: The number 7 should be inserted on index 2 to remain the sort order.\n",
        "\n",
        "The method starts the search from the right and returns the first index where the number 7 is no longer less than the next value."
      ]
    },
    {
      "cell_type": "markdown",
      "metadata": {
        "id": "ETy5BWTMVVBQ"
      },
      "source": [
        "##Multiple Values\n",
        "To search for more than one value, use an array with the specified values."
      ]
    },
    {
      "cell_type": "markdown",
      "metadata": {
        "id": "53orHcA5VYEY"
      },
      "source": [
        "**Example**\n",
        "\n",
        "Find the indexes where the values 2, 4, and 6 should be inserted:"
      ]
    },
    {
      "cell_type": "code",
      "metadata": {
        "id": "uOoOKkzjVLhK",
        "colab": {
          "base_uri": "https://localhost:8080/",
          "height": 34
        },
        "outputId": "801d6c1e-287e-4c24-9cec-a42b8679ed99"
      },
      "source": [
        "import numpy as np\n",
        "\n",
        "arr = np.array([1, 3, 5, 7])\n",
        "\n",
        "x = np.searchsorted(arr, [2, 4, 6])\n",
        "\n",
        "print(x)"
      ],
      "execution_count": null,
      "outputs": [
        {
          "output_type": "stream",
          "text": [
            "[1 2 3]\n"
          ],
          "name": "stdout"
        }
      ]
    },
    {
      "cell_type": "markdown",
      "metadata": {
        "id": "0qLQ8CdpVgny"
      },
      "source": [
        "The return value is an array: `[1 2 3]` containing the three indexes where 2, 4, 6 would be inserted in the original array to maintain the order."
      ]
    },
    {
      "cell_type": "code",
      "metadata": {
        "id": "IoZrwoxwVdxe"
      },
      "source": [
        ""
      ],
      "execution_count": null,
      "outputs": []
    }
  ]
}