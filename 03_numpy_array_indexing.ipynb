{
  "nbformat": 4,
  "nbformat_minor": 0,
  "metadata": {
    "colab": {
      "name": "03_numpy_array_indexing.ipynb",
      "provenance": [],
      "collapsed_sections": [],
      "include_colab_link": true
    },
    "kernelspec": {
      "name": "python3",
      "display_name": "Python 3"
    }
  },
  "cells": [
    {
      "cell_type": "markdown",
      "metadata": {
        "id": "view-in-github",
        "colab_type": "text"
      },
      "source": [
        "<a href=\"https://colab.research.google.com/github/Natbel-Ov/data_science/blob/main/03_numpy_array_indexing.ipynb\" target=\"_parent\"><img src=\"https://colab.research.google.com/assets/colab-badge.svg\" alt=\"Open In Colab\"/></a>"
      ]
    },
    {
      "cell_type": "markdown",
      "metadata": {
        "id": "2NIJ9JnI-wVJ"
      },
      "source": [
        "#NumPy Array Indexing"
      ]
    },
    {
      "cell_type": "markdown",
      "metadata": {
        "id": "gpRAYjud-7GL"
      },
      "source": [
        "##Access Array Elements\n",
        "Array indexing is the same as accessing an array element.\n",
        "\n",
        "You can access an array element by referring to its index number.\n",
        "\n",
        "The indexes in NumPy arrays start with 0, meaning that the first element has index 0, and the second has index 1 etc."
      ]
    },
    {
      "cell_type": "markdown",
      "metadata": {
        "id": "6ur0PYbk_DCl"
      },
      "source": [
        "**Example**\n",
        "\n",
        "Get the first element from the following array:"
      ]
    },
    {
      "cell_type": "code",
      "metadata": {
        "id": "IGe2Z4zc-yKV",
        "colab": {
          "base_uri": "https://localhost:8080/",
          "height": 34
        },
        "outputId": "72d11adc-0295-40d8-9a31-9c7dd15530dd"
      },
      "source": [
        "import numpy as np\n",
        "\n",
        "arr = np.array([1, 2, 3, 4])\n",
        "print(arr[0])"
      ],
      "execution_count": null,
      "outputs": [
        {
          "output_type": "stream",
          "text": [
            "1\n"
          ],
          "name": "stdout"
        }
      ]
    },
    {
      "cell_type": "markdown",
      "metadata": {
        "id": "ViqpqgSHAowB"
      },
      "source": [
        "**Example**\n",
        "\n",
        "Get the second element from the following array."
      ]
    },
    {
      "cell_type": "code",
      "metadata": {
        "id": "-_ppi7Zi_Gof",
        "colab": {
          "base_uri": "https://localhost:8080/",
          "height": 34
        },
        "outputId": "34cbf277-a23e-4d7d-81d8-ee74fd8c5213"
      },
      "source": [
        "import numpy as np\n",
        "\n",
        "arr = np.array([1, 2, 3, 4])\n",
        "print(arr[1])"
      ],
      "execution_count": null,
      "outputs": [
        {
          "output_type": "stream",
          "text": [
            "2\n"
          ],
          "name": "stdout"
        }
      ]
    },
    {
      "cell_type": "markdown",
      "metadata": {
        "id": "ZNMWObHPAywe"
      },
      "source": [
        "**Example**\n",
        "\n",
        "Get third and fourth elements from the following array and add them."
      ]
    },
    {
      "cell_type": "code",
      "metadata": {
        "id": "cbkM9k3CAvJk",
        "colab": {
          "base_uri": "https://localhost:8080/",
          "height": 34
        },
        "outputId": "2679a173-8cde-4d97-b6be-f80fb3973f31"
      },
      "source": [
        "import numpy as np\n",
        "\n",
        "arr = np.array([1, 2, 3, 4])\n",
        "print(arr[2] + arr[3])"
      ],
      "execution_count": null,
      "outputs": [
        {
          "output_type": "stream",
          "text": [
            "7\n"
          ],
          "name": "stdout"
        }
      ]
    },
    {
      "cell_type": "markdown",
      "metadata": {
        "id": "bV5VFLdtA9Rs"
      },
      "source": [
        "##Access 2-D Arrays\n",
        "To access elements from 2-D arrays we can use comma separated integers representing the dimension and the index of the element.\n",
        "\n"
      ]
    },
    {
      "cell_type": "markdown",
      "metadata": {
        "id": "JhQMf8m7BElA"
      },
      "source": [
        "**Example**\n",
        "Access the 2nd element on 1st dim:"
      ]
    },
    {
      "cell_type": "code",
      "metadata": {
        "id": "eX1p-faiA4Dr",
        "colab": {
          "base_uri": "https://localhost:8080/",
          "height": 34
        },
        "outputId": "54cb08eb-8d4a-4504-d6bf-a4aeb45d33c6"
      },
      "source": [
        "import numpy as np\n",
        "\n",
        "arr = np.array([[1,2,3,4,5], [6,7,8,9,10]])\n",
        "print('2nd element on 1st dim: ', arr[0, 1])"
      ],
      "execution_count": null,
      "outputs": [
        {
          "output_type": "stream",
          "text": [
            "2nd element on 1st dim:  2\n"
          ],
          "name": "stdout"
        }
      ]
    },
    {
      "cell_type": "markdown",
      "metadata": {
        "id": "znP16h0CBLJ6"
      },
      "source": [
        "**Example**\n",
        "\n",
        "Access the 5th element on 2nd dim:"
      ]
    },
    {
      "cell_type": "code",
      "metadata": {
        "id": "t2TCnqm2BHpc",
        "colab": {
          "base_uri": "https://localhost:8080/",
          "height": 34
        },
        "outputId": "171adecc-a61b-4be4-f4dd-b7b0ffc7f0f0"
      },
      "source": [
        "import numpy as np\n",
        "\n",
        "arr = np.array([[1,2,3,4,5], [6,7,8,9,10]])\n",
        "\n",
        "print('5th element on 2nd dim: ', arr[1, 4])"
      ],
      "execution_count": null,
      "outputs": [
        {
          "output_type": "stream",
          "text": [
            "5th element on 2nd dim:  10\n"
          ],
          "name": "stdout"
        }
      ]
    },
    {
      "cell_type": "markdown",
      "metadata": {
        "id": "GmRPH2oNBTtJ"
      },
      "source": [
        "##Access 3-D Arrays\n",
        "To access elements from 3-D arrays we can use comma separated integers representing the dimensions and the index of the element.\n",
        "\n"
      ]
    },
    {
      "cell_type": "markdown",
      "metadata": {
        "id": "oqJ_O9mPBbmw"
      },
      "source": [
        "**Example**\n",
        "\n",
        "Access the third element of the second array of the first array:"
      ]
    },
    {
      "cell_type": "code",
      "metadata": {
        "id": "Dwb_nRfzBPY8",
        "colab": {
          "base_uri": "https://localhost:8080/",
          "height": 34
        },
        "outputId": "769f2b9d-b0f3-4e39-f1ce-081412a30571"
      },
      "source": [
        "import numpy as np\n",
        "\n",
        "arr = np.array([[[1, 2, 3], [4, 5, 6]], [[7, 8, 9], [10, 11, 12]]])\n",
        "print(arr[0, 1, 2])"
      ],
      "execution_count": null,
      "outputs": [
        {
          "output_type": "stream",
          "text": [
            "6\n"
          ],
          "name": "stdout"
        }
      ]
    },
    {
      "cell_type": "markdown",
      "metadata": {
        "id": "n2GyB6ufBq7K"
      },
      "source": [
        "##Example Explained\n",
        "`arr[0, 1, 2]` prints the value `6`.\n",
        "\n",
        "And this is why:\n",
        "\n",
        "The first number represents the first dimension, which contains two arrays:\n",
        "\n",
        "`[[1, 2, 3], [4, 5, 6]]`\n",
        "\n",
        "and:\n",
        "\n",
        "`[[7, 8, 9], [10, 11, 12]]`\n",
        "\n",
        "Since we selected `0`, we are left with the first array:\n",
        "\n",
        "`[[1, 2, 3], [4, 5, 6]]`\n",
        "\n",
        "The second number represents the second dimension, which also contains two arrays:\n",
        "\n",
        "`[1, 2, 3]`\n",
        "\n",
        "and:\n",
        "\n",
        "`[4, 5, 6]`\n",
        "\n",
        "Since we selected `1`, we are left with the second array:\n",
        "\n",
        "`[4, 5, 6]`\n",
        "\n",
        "The third number represents the third dimension, which contains three values:\n",
        "\n",
        "```\n",
        "4\n",
        "5\n",
        "6\n",
        "```\n",
        "\n",
        "Since we selected 2, we end up with the third value:\n",
        "`6`\n",
        "\n"
      ]
    },
    {
      "cell_type": "markdown",
      "metadata": {
        "id": "_0_9FI4OCKZT"
      },
      "source": [
        "##Negative Indexing\n",
        "Use negative indexing to access an array from the end."
      ]
    },
    {
      "cell_type": "markdown",
      "metadata": {
        "id": "55FJAo8PCG6g"
      },
      "source": [
        "**Example**\n",
        "\n",
        "Print the last element from the 2nd dim:"
      ]
    },
    {
      "cell_type": "code",
      "metadata": {
        "id": "h29xJaE1Cr45",
        "colab": {
          "base_uri": "https://localhost:8080/",
          "height": 34
        },
        "outputId": "cb1e5e7e-c509-409f-efca-fd0feb2b4ac8"
      },
      "source": [
        "import numpy as np\n",
        "\n",
        "arr = np.array([[1,2,3,4,5], [6,7,8,9,10]])\n",
        "print('Last element from 2nd dim: ', arr[1, -1])"
      ],
      "execution_count": null,
      "outputs": [
        {
          "output_type": "stream",
          "text": [
            "Last element from 2nd dim:  10\n"
          ],
          "name": "stdout"
        }
      ]
    }
  ]
}