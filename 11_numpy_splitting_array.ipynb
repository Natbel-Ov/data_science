{
  "nbformat": 4,
  "nbformat_minor": 0,
  "metadata": {
    "colab": {
      "name": "11_numpy_splitting_array.ipynb",
      "provenance": [],
      "collapsed_sections": [],
      "include_colab_link": true
    },
    "kernelspec": {
      "name": "python3",
      "display_name": "Python 3"
    }
  },
  "cells": [
    {
      "cell_type": "markdown",
      "metadata": {
        "id": "view-in-github",
        "colab_type": "text"
      },
      "source": [
        "<a href=\"https://colab.research.google.com/github/Natbel-Ov/data_science/blob/main/11_numpy_splitting_array.ipynb\" target=\"_parent\"><img src=\"https://colab.research.google.com/assets/colab-badge.svg\" alt=\"Open In Colab\"/></a>"
      ]
    },
    {
      "cell_type": "markdown",
      "metadata": {
        "id": "cmhB5kLoRwsY"
      },
      "source": [
        "#NumPy Splitting Array"
      ]
    },
    {
      "cell_type": "markdown",
      "metadata": {
        "id": "D7AyurFER5Hn"
      },
      "source": [
        "##Splitting NumPy Arrays\n",
        "Splitting is reverse operation of Joining.\n",
        "\n",
        "Joining merges multiple arrays into one and Splitting breaks one array into multiple.\n",
        "\n",
        "We use array_split() for splitting arrays, we pass it the array we want to split and the number of splits.\n",
        "\n"
      ]
    },
    {
      "cell_type": "markdown",
      "metadata": {
        "id": "Ajw9WGBGR-vJ"
      },
      "source": [
        "**Example**\n",
        "\n",
        "Split the array in 3 parts:"
      ]
    },
    {
      "cell_type": "code",
      "metadata": {
        "id": "NpODiG95Rme3",
        "colab": {
          "base_uri": "https://localhost:8080/",
          "height": 34
        },
        "outputId": "2ac7268b-abef-45b3-c25e-85da042083d7"
      },
      "source": [
        "import numpy as np\n",
        "\n",
        "arr = np.array([1, 2, 3, 4, 5, 6])\n",
        "\n",
        "newarr = np.array_split(arr, 3)\n",
        "\n",
        "print(newarr)"
      ],
      "execution_count": null,
      "outputs": [
        {
          "output_type": "stream",
          "text": [
            "[array([1, 2]), array([3, 4]), array([5, 6])]\n"
          ],
          "name": "stdout"
        }
      ]
    },
    {
      "cell_type": "markdown",
      "metadata": {
        "id": "IiwwfkSISHgI"
      },
      "source": [
        "> **Note:** The return value is an array containing three arrays.\n",
        "\n",
        "If the array has less elements than required, it will adjust from the end accordingly."
      ]
    },
    {
      "cell_type": "markdown",
      "metadata": {
        "id": "St5oHH-GSP0R"
      },
      "source": [
        "**Example**\n",
        "\n",
        "Split the array in 4 parts:"
      ]
    },
    {
      "cell_type": "code",
      "metadata": {
        "id": "4JDm4wsJRyhm",
        "colab": {
          "base_uri": "https://localhost:8080/",
          "height": 34
        },
        "outputId": "871702cd-3f52-49d7-9cf2-caec8d2bad76"
      },
      "source": [
        "import numpy as np\n",
        "\n",
        "arr = np.array([1, 2, 3, 4, 5, 6])\n",
        "\n",
        "newarr = np.array_split(arr, 4)\n",
        "\n",
        "print(newarr)"
      ],
      "execution_count": null,
      "outputs": [
        {
          "output_type": "stream",
          "text": [
            "[array([1, 2]), array([3, 4]), array([5]), array([6])]\n"
          ],
          "name": "stdout"
        }
      ]
    },
    {
      "cell_type": "markdown",
      "metadata": {
        "id": "gPMLouwmSYuI"
      },
      "source": [
        "> **Note:** We also have the method `split()` available but it will not adjust the elements when elements are less in source array for splitting like in example above, `array_split()` worked properly but `split()` would fail."
      ]
    },
    {
      "cell_type": "markdown",
      "metadata": {
        "id": "APULVkJcSo3R"
      },
      "source": [
        "##Split Into Arrays\n",
        "The return value of the array_split() method is an array containing each of the split as an array.\n",
        "\n",
        "If you split an array into 3 arrays, you can access them from the result just like any array element:\n",
        "\n"
      ]
    },
    {
      "cell_type": "markdown",
      "metadata": {
        "id": "FM-ZPHlMSteZ"
      },
      "source": [
        "**Example**\n",
        "\n",
        "Access the splitted arrays:"
      ]
    },
    {
      "cell_type": "code",
      "metadata": {
        "id": "dJIqJHHcSVfZ",
        "colab": {
          "base_uri": "https://localhost:8080/",
          "height": 68
        },
        "outputId": "44f99828-af4f-4234-d1b7-c5bfd3bc20cd"
      },
      "source": [
        "import numpy as np\n",
        "\n",
        "arr = np.array([1, 2, 3, 4, 5, 6])\n",
        "\n",
        "newarr = np.array_split(arr, 3)\n",
        "\n",
        "print(newarr[0])\n",
        "print(newarr[1])\n",
        "print(newarr[2])"
      ],
      "execution_count": null,
      "outputs": [
        {
          "output_type": "stream",
          "text": [
            "[1 2]\n",
            "[3 4]\n",
            "[5 6]\n"
          ],
          "name": "stdout"
        }
      ]
    },
    {
      "cell_type": "markdown",
      "metadata": {
        "id": "ehB04ZOOS0qL"
      },
      "source": [
        "##Splitting 2-D Arrays\n",
        "Use the same syntax when splitting 2-D arrays.\n",
        "\n",
        "Use the array_split() method, pass in the array you want to split and the number of splits you want to do.\n",
        "\n"
      ]
    },
    {
      "cell_type": "markdown",
      "metadata": {
        "id": "nVSyFsKcS5WC"
      },
      "source": [
        "**Example**\n",
        "\n",
        "Split the 2-D array into three 2-D arrays."
      ]
    },
    {
      "cell_type": "code",
      "metadata": {
        "id": "9OFJG5axSwT7",
        "colab": {
          "base_uri": "https://localhost:8080/",
          "height": 85
        },
        "outputId": "0a3090ed-abbe-49c3-bd4c-fe541fa2f8ed"
      },
      "source": [
        "import numpy as np\n",
        "\n",
        "arr = np.array([[1, 2], [3, 4], [5, 6], [7, 8], [9, 10], [11, 12]])\n",
        "\n",
        "newarr = np.array_split(arr, 3)\n",
        "\n",
        "print(newarr)"
      ],
      "execution_count": null,
      "outputs": [
        {
          "output_type": "stream",
          "text": [
            "[array([[1, 2],\n",
            "       [3, 4]]), array([[5, 6],\n",
            "       [7, 8]]), array([[ 9, 10],\n",
            "       [11, 12]])]\n"
          ],
          "name": "stdout"
        }
      ]
    },
    {
      "cell_type": "markdown",
      "metadata": {
        "id": "KLMJCTvuS_WK"
      },
      "source": [
        "The example above returns three 2-D arrays.\n",
        "\n",
        "Let's look at another example, this time each element in the 2-D arrays contains 3 elements.\n"
      ]
    },
    {
      "cell_type": "markdown",
      "metadata": {
        "id": "ayfv8cJETCxr"
      },
      "source": [
        "**Example**\n",
        "\n",
        "Split the 2-D array into three 2-D arrays."
      ]
    },
    {
      "cell_type": "code",
      "metadata": {
        "id": "YVfrSzVZS_HL",
        "colab": {
          "base_uri": "https://localhost:8080/",
          "height": 85
        },
        "outputId": "131a1336-9be5-47dd-8e2d-47741d0214e6"
      },
      "source": [
        "import numpy as np\n",
        "\n",
        "arr = np.array([[1, 2, 3], [4, 5, 6], [7, 8, 9], [10, 11, 12], [13, 14, 15], [16, 17, 18]])\n",
        "\n",
        "newarr = np.array_split(arr, 3)\n",
        "\n",
        "print(newarr)"
      ],
      "execution_count": null,
      "outputs": [
        {
          "output_type": "stream",
          "text": [
            "[array([[1, 2, 3],\n",
            "       [4, 5, 6]]), array([[ 7,  8,  9],\n",
            "       [10, 11, 12]]), array([[13, 14, 15],\n",
            "       [16, 17, 18]])]\n"
          ],
          "name": "stdout"
        }
      ]
    },
    {
      "cell_type": "markdown",
      "metadata": {
        "id": "-ddeOWTyTIWr"
      },
      "source": [
        "The example above returns three 2-D arrays.\n",
        "\n",
        "In addition, you can specify which axis you want to do the split around.\n",
        "\n",
        "The example below also returns three 2-D arrays, but they are split along the row (axis=1)."
      ]
    },
    {
      "cell_type": "markdown",
      "metadata": {
        "id": "T6FmsyY6TOsj"
      },
      "source": [
        "**Example**\n",
        "\n",
        "Split the 2-D array into three 2-D arrays along rows."
      ]
    },
    {
      "cell_type": "code",
      "metadata": {
        "id": "2afeRBccS8rT",
        "colab": {
          "base_uri": "https://localhost:8080/",
          "height": 289
        },
        "outputId": "3f2f2e01-a006-41d7-90b8-3d572020dabb"
      },
      "source": [
        "import numpy as np\n",
        "\n",
        "arr = np.array([[1, 2, 3], [4, 5, 6], [7, 8, 9], [10, 11, 12], [13, 14, 15], [16, 17, 18]])\n",
        "\n",
        "newarr = np.array_split(arr, 3, axis=1)\n",
        "\n",
        "print(newarr)"
      ],
      "execution_count": null,
      "outputs": [
        {
          "output_type": "stream",
          "text": [
            "[array([[ 1],\n",
            "       [ 4],\n",
            "       [ 7],\n",
            "       [10],\n",
            "       [13],\n",
            "       [16]]), array([[ 2],\n",
            "       [ 5],\n",
            "       [ 8],\n",
            "       [11],\n",
            "       [14],\n",
            "       [17]]), array([[ 3],\n",
            "       [ 6],\n",
            "       [ 9],\n",
            "       [12],\n",
            "       [15],\n",
            "       [18]])]\n"
          ],
          "name": "stdout"
        }
      ]
    },
    {
      "cell_type": "markdown",
      "metadata": {
        "id": "q_cxNixOTWob"
      },
      "source": [
        "An alternate solution is using hsplit() opposite of hstack()\n",
        "\n"
      ]
    },
    {
      "cell_type": "markdown",
      "metadata": {
        "id": "NImF1aptTaj8"
      },
      "source": [
        "**Example**\n",
        "\n",
        "Use the hsplit() method to split the 2-D array into three 2-D arrays along rows."
      ]
    },
    {
      "cell_type": "code",
      "metadata": {
        "id": "TBshDKakTSDs",
        "colab": {
          "base_uri": "https://localhost:8080/",
          "height": 289
        },
        "outputId": "91179709-c8ee-450c-c7f1-f434cdf2c926"
      },
      "source": [
        "import numpy as np\n",
        "\n",
        "arr = np.array([[1, 2, 3], [4, 5, 6], [7, 8, 9], [10, 11, 12], [13, 14, 15], [16, 17, 18]])\n",
        "\n",
        "newarr = np.hsplit(arr, 3)\n",
        "\n",
        "print(newarr)"
      ],
      "execution_count": null,
      "outputs": [
        {
          "output_type": "stream",
          "text": [
            "[array([[ 1],\n",
            "       [ 4],\n",
            "       [ 7],\n",
            "       [10],\n",
            "       [13],\n",
            "       [16]]), array([[ 2],\n",
            "       [ 5],\n",
            "       [ 8],\n",
            "       [11],\n",
            "       [14],\n",
            "       [17]]), array([[ 3],\n",
            "       [ 6],\n",
            "       [ 9],\n",
            "       [12],\n",
            "       [15],\n",
            "       [18]])]\n"
          ],
          "name": "stdout"
        }
      ]
    },
    {
      "cell_type": "markdown",
      "metadata": {
        "id": "wgt8oTfoTg08"
      },
      "source": [
        "> **Note:** Similar alternates to `vstack() `and `dstack()` are available as `vsplit()` and `dsplit()`."
      ]
    },
    {
      "cell_type": "code",
      "metadata": {
        "id": "c493yWHiTd19"
      },
      "source": [
        ""
      ],
      "execution_count": null,
      "outputs": []
    }
  ]
}