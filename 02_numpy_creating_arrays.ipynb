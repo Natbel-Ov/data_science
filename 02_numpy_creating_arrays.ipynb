{
  "nbformat": 4,
  "nbformat_minor": 0,
  "metadata": {
    "colab": {
      "name": "02_numpy_creating_arrays.ipynb",
      "provenance": [],
      "collapsed_sections": [],
      "include_colab_link": true
    },
    "kernelspec": {
      "name": "python3",
      "display_name": "Python 3"
    }
  },
  "cells": [
    {
      "cell_type": "markdown",
      "metadata": {
        "id": "view-in-github",
        "colab_type": "text"
      },
      "source": [
        "<a href=\"https://colab.research.google.com/github/Natbel-Ov/data_science/blob/main/02_numpy_creating_arrays.ipynb\" target=\"_parent\"><img src=\"https://colab.research.google.com/assets/colab-badge.svg\" alt=\"Open In Colab\"/></a>"
      ]
    },
    {
      "cell_type": "markdown",
      "metadata": {
        "id": "IUMQAXR_yyzw"
      },
      "source": [
        "#NumPy Creating Arrays\n",
        "##Create a NumPy ndarray Object\n",
        "NumPy is used to work with arrays. The array object in NumPy is called ndarray.\n",
        "\n",
        "We can create a NumPy ndarray object by using the array() function."
      ]
    },
    {
      "cell_type": "code",
      "metadata": {
        "id": "BXOIbIK_wKen",
        "colab": {
          "base_uri": "https://localhost:8080/",
          "height": 51
        },
        "outputId": "6be25044-1ec5-4360-8796-822aa52398ae"
      },
      "source": [
        "import numpy as np\n",
        "\n",
        "arr = np.array((1, 2, 3, 4, 5))\n",
        "print(arr)\n",
        "print(type(arr))"
      ],
      "execution_count": null,
      "outputs": [
        {
          "output_type": "stream",
          "text": [
            "[1 2 3 4 5]\n",
            "<class 'numpy.ndarray'>\n"
          ],
          "name": "stdout"
        }
      ]
    },
    {
      "cell_type": "markdown",
      "metadata": {
        "id": "c-yIt24azUxS"
      },
      "source": [
        "> **type():** This built-in Python function tells us the type of the object passed to it. Like in above code it shows that arr is numpy.ndarray type.\n",
        "\n",
        "\n"
      ]
    },
    {
      "cell_type": "markdown",
      "metadata": {
        "id": "bPJuVgJXzs-F"
      },
      "source": [
        "To create an ndarray, we can pass a list, tuple or any array-like object into the array() method, and it will be converted into an ndarray:"
      ]
    },
    {
      "cell_type": "markdown",
      "metadata": {
        "id": "0PD0y9xVzxDi"
      },
      "source": [
        "**Example**\n",
        "\n",
        "Use a tuple to create a NumPy array:"
      ]
    },
    {
      "cell_type": "code",
      "metadata": {
        "id": "Z7ZyIfhqzykf",
        "colab": {
          "base_uri": "https://localhost:8080/",
          "height": 34
        },
        "outputId": "cb42b03d-36db-4988-f5eb-3db26a582523"
      },
      "source": [
        "import numpy as np\n",
        "arr = np.array((1, 2, 3, 4, 5))\n",
        "print(arr)"
      ],
      "execution_count": null,
      "outputs": [
        {
          "output_type": "stream",
          "text": [
            "[1 2 3 4 5]\n"
          ],
          "name": "stdout"
        }
      ]
    },
    {
      "cell_type": "markdown",
      "metadata": {
        "id": "qbnXW-oL1QU4"
      },
      "source": [
        "##Dimensions in Arrays\n",
        "A dimension in arrays is one level of array depth (nested arrays).\n",
        "\n",
        "> **nested array:** are arrays that have arrays as their elements."
      ]
    },
    {
      "cell_type": "markdown",
      "metadata": {
        "id": "5wq6dUxt57PS"
      },
      "source": [
        "###0-D Arrays\n",
        "0-D arrays, or Scalars, are the elements in an array. Each value in an array is a 0-D array."
      ]
    },
    {
      "cell_type": "markdown",
      "metadata": {
        "id": "kSoJUtoJ2-en"
      },
      "source": [
        "**Example**\n",
        "\n",
        "Create a 0-D array with value 42"
      ]
    },
    {
      "cell_type": "code",
      "metadata": {
        "id": "4qtxclQNy51X",
        "colab": {
          "base_uri": "https://localhost:8080/",
          "height": 34
        },
        "outputId": "bfdd971b-a8b9-4e5d-f373-61063a1358aa"
      },
      "source": [
        "import numpy as np\n",
        "\n",
        "arr = np.array(42)\n",
        "print(arr)"
      ],
      "execution_count": null,
      "outputs": [
        {
          "output_type": "stream",
          "text": [
            "42\n"
          ],
          "name": "stdout"
        }
      ]
    },
    {
      "cell_type": "markdown",
      "metadata": {
        "id": "KXXG-7_M3NqL"
      },
      "source": [
        "##1-D Arrays\n",
        "An array that has 0-D arrays as its elements is called uni-dimensional or 1-D array.\n",
        "\n",
        "These are the most common and basic arrays."
      ]
    },
    {
      "cell_type": "markdown",
      "metadata": {
        "id": "6Tv73Yen3T_l"
      },
      "source": [
        "**Example**\n",
        "\n",
        "Create a 1-D array containing the values 1,2,3,4,5:"
      ]
    },
    {
      "cell_type": "code",
      "metadata": {
        "id": "OTIRhayh3b6z",
        "colab": {
          "base_uri": "https://localhost:8080/",
          "height": 34
        },
        "outputId": "241f2db4-2016-434a-945d-47beb2917941"
      },
      "source": [
        "import numpy as np\n",
        "\n",
        "arr = np.array([1, 2, 3, 4, 5])\n",
        "print(arr)"
      ],
      "execution_count": null,
      "outputs": [
        {
          "output_type": "stream",
          "text": [
            "[1 2 3 4 5]\n"
          ],
          "name": "stdout"
        }
      ]
    },
    {
      "cell_type": "markdown",
      "metadata": {
        "id": "Tcj9qWDg3ol3"
      },
      "source": [
        "##2-D Arrays\n",
        "An array that has 1-D arrays as its elements is called a 2-D array.\n",
        "\n",
        "These are often used to represent matrix or 2nd order tensors.\n",
        "\n",
        "> NumPy has a whole sub module dedicated towards matrix operations called numpy.mat"
      ]
    },
    {
      "cell_type": "markdown",
      "metadata": {
        "id": "N2DG8N_s3v_A"
      },
      "source": [
        "**Example**\n",
        "\n",
        "Create a 2-D array containing two arrays with the values 1,2,3 and 4,5,6:"
      ]
    },
    {
      "cell_type": "code",
      "metadata": {
        "id": "6sAzOSnH34Cp",
        "colab": {
          "base_uri": "https://localhost:8080/",
          "height": 51
        },
        "outputId": "9c58aff2-adfc-4ed1-dcc9-824002466d35"
      },
      "source": [
        "import numpy as np\n",
        "\n",
        "arr = np.array([[1, 2, 3], [4, 5, 6]])\n",
        "print(arr)"
      ],
      "execution_count": null,
      "outputs": [
        {
          "output_type": "stream",
          "text": [
            "[[1 2 3]\n",
            " [4 5 6]]\n"
          ],
          "name": "stdout"
        }
      ]
    },
    {
      "cell_type": "markdown",
      "metadata": {
        "id": "4c5oWHua6dIh"
      },
      "source": [
        "##3-D arrays\n",
        "An array that has 2-D arrays (matrices) as its elements is called 3-D array.\n",
        "\n",
        "These are often used to represent a 3rd order tensor.\n"
      ]
    },
    {
      "cell_type": "markdown",
      "metadata": {
        "id": "6tMrx2-86mjx"
      },
      "source": [
        "**Example**\n",
        "\n",
        "Create a 3-D array with two 2-D arrays, both containing two arrays with the values 1,2,3 and 4,5,6:"
      ]
    },
    {
      "cell_type": "code",
      "metadata": {
        "id": "s-i_Sm0k3HOy",
        "colab": {
          "base_uri": "https://localhost:8080/",
          "height": 102
        },
        "outputId": "0554c5c9-5275-423c-d75e-b2f51de5218c"
      },
      "source": [
        "import numpy as np\n",
        "\n",
        "arr = np.array([[[1, 2, 3], [4, 5, 6]], [[1, 2, 3], [4, 5, 6]]])\n",
        "print(arr)"
      ],
      "execution_count": null,
      "outputs": [
        {
          "output_type": "stream",
          "text": [
            "[[[1 2 3]\n",
            "  [4 5 6]]\n",
            "\n",
            " [[1 2 3]\n",
            "  [4 5 6]]]\n"
          ],
          "name": "stdout"
        }
      ]
    },
    {
      "cell_type": "markdown",
      "metadata": {
        "id": "NZ1dvhMq6yMo"
      },
      "source": [
        "##Check Number of Dimensions?\n",
        "NumPy Arrays provides the ndim attribute that returns an integer that tells us how many dimensions the array have.\n"
      ]
    },
    {
      "cell_type": "markdown",
      "metadata": {
        "id": "kBfcqpmv661a"
      },
      "source": [
        "**Example**\n",
        "\n",
        "Check how many dimensions the arrays have:"
      ]
    },
    {
      "cell_type": "code",
      "metadata": {
        "id": "UA-kpklO66Or",
        "colab": {
          "base_uri": "https://localhost:8080/",
          "height": 85
        },
        "outputId": "155781fd-1da9-4a88-a959-5d5bdb294f7a"
      },
      "source": [
        "import numpy as np\n",
        "\n",
        "a = np.array(42)\n",
        "b = np.array([1, 2, 3, 4, 5])\n",
        "c = np.array([[1, 2, 3], [4, 5, 6]])\n",
        "d = np.array([[[1, 2, 3], [4, 5, 6]], [[1, 2, 3], [4, 5, 6]]])\n",
        "\n",
        "print(a.ndim)\n",
        "print(b.ndim)\n",
        "print(c.ndim)\n",
        "print(d.ndim)"
      ],
      "execution_count": null,
      "outputs": [
        {
          "output_type": "stream",
          "text": [
            "0\n",
            "1\n",
            "2\n",
            "3\n"
          ],
          "name": "stdout"
        }
      ]
    },
    {
      "cell_type": "markdown",
      "metadata": {
        "id": "i5ZF5gVa65wv"
      },
      "source": [
        "##Higher Dimensional Arrays\n",
        "An array can have any number of dimensions.\n",
        "\n",
        "When the array is created, you can define the number of dimensions by using the ndmin argument.\n",
        "\n"
      ]
    },
    {
      "cell_type": "markdown",
      "metadata": {
        "id": "7p8ycP-q7MqN"
      },
      "source": [
        "**Example**\n",
        "\n",
        "Create an array with 5 dimensions and verify that it has 5 dimensions:"
      ]
    },
    {
      "cell_type": "code",
      "metadata": {
        "id": "L4yNQO646tBE",
        "colab": {
          "base_uri": "https://localhost:8080/",
          "height": 51
        },
        "outputId": "8c5fcd09-d9f9-46db-f832-b20bcc5d8bf7"
      },
      "source": [
        "import numpy as np\n",
        "\n",
        "arr = np.array([1, 2, 3, 4], ndmin=5)\n",
        "print(arr)\n",
        "print('number of dimensions :', arr.ndim)"
      ],
      "execution_count": null,
      "outputs": [
        {
          "output_type": "stream",
          "text": [
            "[[[[[1 2 3 4]]]]]\n",
            "number of dimensions : 5\n"
          ],
          "name": "stdout"
        }
      ]
    },
    {
      "cell_type": "markdown",
      "metadata": {
        "id": "rMmNPdGR7W2h"
      },
      "source": [
        "In this array the innermost dimension (5th dim) has 4 elements, the 4th dim has 1 element that is the vector, the 3rd dim has 1 element that is the matrix with the vector, the 2nd dim has 1 element that is 3D array and 1st dim has 1 element that is a 4D array."
      ]
    },
    {
      "cell_type": "code",
      "metadata": {
        "id": "PhuOyjU97R3V"
      },
      "source": [
        ""
      ],
      "execution_count": null,
      "outputs": []
    }
  ]
}