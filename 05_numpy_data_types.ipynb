{
  "nbformat": 4,
  "nbformat_minor": 0,
  "metadata": {
    "colab": {
      "name": "05_numpy_data_types.ipynb",
      "provenance": [],
      "collapsed_sections": [],
      "include_colab_link": true
    },
    "kernelspec": {
      "name": "python3",
      "display_name": "Python 3"
    }
  },
  "cells": [
    {
      "cell_type": "markdown",
      "metadata": {
        "id": "view-in-github",
        "colab_type": "text"
      },
      "source": [
        "<a href=\"https://colab.research.google.com/github/Natbel-Ov/data_science/blob/main/05_numpy_data_types.ipynb\" target=\"_parent\"><img src=\"https://colab.research.google.com/assets/colab-badge.svg\" alt=\"Open In Colab\"/></a>"
      ]
    },
    {
      "cell_type": "markdown",
      "metadata": {
        "id": "j9qmqa4oVDaa"
      },
      "source": [
        "#NumPy Data Types"
      ]
    },
    {
      "cell_type": "markdown",
      "metadata": {
        "id": "O9EcfNyuVIBK"
      },
      "source": [
        "#Data Types in Python\n",
        "By default Python have these data types:\n",
        "\n",
        "* strings - used to represent text data, the text is given under quote marks. eg. \"ABCD\"\n",
        "* integer - used to represent integer numbers. eg. -1, -2, -3\n",
        "* float - used to represent real numbers. eg. 1.2, 42.42\n",
        "* boolean - used to represent True or False.\n",
        "* complex - used to represent a number in complex plain. eg. 1.0 + 2.0j, 1.5 + 2.5j"
      ]
    },
    {
      "cell_type": "markdown",
      "metadata": {
        "id": "SLX_1AeqVmrC"
      },
      "source": [
        "##Data Types in NumPy\n",
        "NumPy has some extra data types, and refer to data types with one character, like i for integers, u for unsigned integers etc.\n",
        "\n",
        "Below is a list of all data types in NumPy and the characters used to represent them.\n",
        "\n",
        "* i - integer\n",
        "* b - boolean\n",
        "* u - unsigned integer\n",
        "* f - float\n",
        "* c - complex float\n",
        "* m - timedelta\n",
        "* M - datetime\n",
        "* O - object\n",
        "* S - string\n",
        "* U - unicode string\n",
        "* V - fixed chunk of memory for other type ( void )"
      ]
    },
    {
      "cell_type": "markdown",
      "metadata": {
        "id": "hVzrG0_eV6B8"
      },
      "source": [
        "##Checking the Data Type of an Array\n",
        "The NumPy array object has a property called dtype that returns the data type of the array:\n"
      ]
    },
    {
      "cell_type": "markdown",
      "metadata": {
        "id": "RBKO-Mv6WAiT"
      },
      "source": [
        "**Example**\n",
        "\n",
        "Get the data type of an array object:"
      ]
    },
    {
      "cell_type": "code",
      "metadata": {
        "id": "BJacu0mSU3fS",
        "colab": {
          "base_uri": "https://localhost:8080/",
          "height": 34
        },
        "outputId": "755effd5-5a48-404f-a187-5ee6ea702b43"
      },
      "source": [
        "import numpy as np\n",
        "\n",
        "arr = np.array([1, 2, 3, 4])\n",
        "print(arr.dtype)"
      ],
      "execution_count": null,
      "outputs": [
        {
          "output_type": "stream",
          "text": [
            "int64\n"
          ],
          "name": "stdout"
        }
      ]
    },
    {
      "cell_type": "markdown",
      "metadata": {
        "id": "udU8C4WmWIR7"
      },
      "source": [
        "**Example**\n",
        "\n",
        "Get the data type of an array containing strings:"
      ]
    },
    {
      "cell_type": "code",
      "metadata": {
        "id": "LdRd3Z57VEs7",
        "colab": {
          "base_uri": "https://localhost:8080/",
          "height": 34
        },
        "outputId": "21880d37-9a56-427d-dbea-441a95f814e0"
      },
      "source": [
        "import numpy as np\n",
        "\n",
        "arr = np.array(['apple', 'banana', 'cherry'])\n",
        "print(arr.dtype)"
      ],
      "execution_count": null,
      "outputs": [
        {
          "output_type": "stream",
          "text": [
            "<U6\n"
          ],
          "name": "stdout"
        }
      ]
    },
    {
      "cell_type": "markdown",
      "metadata": {
        "id": "fbX1sW3yWU9A"
      },
      "source": [
        "##Creating Arrays With a Defined Data Type\n",
        "We use the array() function to create arrays, this function can take an optional argument: dtype that allows us to define the expected data type of the array elements:"
      ]
    },
    {
      "cell_type": "markdown",
      "metadata": {
        "id": "lqqMILZtWaoQ"
      },
      "source": [
        "**Example**\n",
        "\n",
        "Create an array with data type string:"
      ]
    },
    {
      "cell_type": "code",
      "metadata": {
        "id": "x2-N7kz8WOB3",
        "colab": {
          "base_uri": "https://localhost:8080/",
          "height": 51
        },
        "outputId": "2e979fdc-93b6-49c7-9fbb-6c563757b819"
      },
      "source": [
        "import numpy as np\n",
        "\n",
        "arr = np.array([1, 2, 3, 4], dtype='S')\n",
        "\n",
        "print(arr)\n",
        "print(arr.dtype)"
      ],
      "execution_count": null,
      "outputs": [
        {
          "output_type": "stream",
          "text": [
            "[b'1' b'2' b'3' b'4']\n",
            "|S1\n"
          ],
          "name": "stdout"
        }
      ]
    },
    {
      "cell_type": "markdown",
      "metadata": {
        "id": "uHWoAf1_Wk-t"
      },
      "source": [
        "For `i, u, f, S` and U we can define size as well."
      ]
    },
    {
      "cell_type": "markdown",
      "metadata": {
        "id": "fD9pjYn8WrP5"
      },
      "source": [
        "**Example**\n",
        "\n",
        "Create an array with data type 4 bytes integer:"
      ]
    },
    {
      "cell_type": "code",
      "metadata": {
        "id": "MzcNh9keWe_o",
        "colab": {
          "base_uri": "https://localhost:8080/",
          "height": 51
        },
        "outputId": "c72fadd2-e6e5-402a-fe08-56898e80f295"
      },
      "source": [
        "import numpy as np\n",
        "\n",
        "arr = np.array([1, 2, 3, 4], dtype='i4')\n",
        "\n",
        "print(arr)\n",
        "print(arr.dtype)"
      ],
      "execution_count": null,
      "outputs": [
        {
          "output_type": "stream",
          "text": [
            "[1 2 3 4]\n",
            "int32\n"
          ],
          "name": "stdout"
        }
      ]
    },
    {
      "cell_type": "markdown",
      "metadata": {
        "id": "DjJ4u7H8Wz9h"
      },
      "source": [
        "##What if a Value Can Not Be Converted?\n",
        "If a type is given in which elements can't be casted then NumPy will raise a ValueError.\n",
        "\n",
        "> **ValueError:** In Python ValueError is raised when the type of passed argument to a function is unexpected/incorrect."
      ]
    },
    {
      "cell_type": "markdown",
      "metadata": {
        "id": "DANULUIXW-5P"
      },
      "source": [
        "**Example**\n",
        "\n",
        "A non integer string like 'a' can not be converted to integer (will raise an error):"
      ]
    },
    {
      "cell_type": "code",
      "metadata": {
        "id": "kr0XiRZsWwLI"
      },
      "source": [
        "import numpy as np\n",
        "\n",
        "arr = np.array(['a', '2', '3'], dtype='i')"
      ],
      "execution_count": null,
      "outputs": []
    },
    {
      "cell_type": "markdown",
      "metadata": {
        "id": "bgfxEcf3XQrW"
      },
      "source": [
        "##Converting Data Type on Existing Arrays\n",
        "The best way to change the data type of an existing array, is to make a copy of the array with the `astype()` method.\n",
        "\n",
        "The astype() function creates a copy of the array, and allows you to specify the data type as a parameter.\n",
        "\n",
        "The data type can be specified using a string, like `'f'` for `float`, `'i'` for `integer` etc. or you can use the data type directly like `float` for float and `int` for integer."
      ]
    },
    {
      "cell_type": "markdown",
      "metadata": {
        "id": "5zLedBjlXaa0"
      },
      "source": [
        "**Example**\n",
        "\n",
        "Change data type from float to integer by using 'i' as parameter value:"
      ]
    },
    {
      "cell_type": "code",
      "metadata": {
        "id": "ISXot21dXMd5",
        "colab": {
          "base_uri": "https://localhost:8080/",
          "height": 51
        },
        "outputId": "cb960b32-de88-493b-d655-42d4d0427565"
      },
      "source": [
        "import numpy as np\n",
        "\n",
        "arr = np.array([1.1, 2.1, 3.1])\n",
        "\n",
        "newarr = arr.astype('i')\n",
        "\n",
        "print(newarr)\n",
        "print(newarr.dtype)"
      ],
      "execution_count": null,
      "outputs": [
        {
          "output_type": "stream",
          "text": [
            "[1 2 3]\n",
            "int32\n"
          ],
          "name": "stdout"
        }
      ]
    },
    {
      "cell_type": "markdown",
      "metadata": {
        "id": "3vQ-Hl8kX3Pi"
      },
      "source": [
        "**Example**\n",
        "\n",
        "Change data type from float to integer by using int as parameter value:\n"
      ]
    },
    {
      "cell_type": "code",
      "metadata": {
        "id": "yZMGnx4zX3Cs",
        "colab": {
          "base_uri": "https://localhost:8080/",
          "height": 51
        },
        "outputId": "16c4a381-bff6-4a76-eeb8-b2d0c85b44bb"
      },
      "source": [
        "import numpy as np\n",
        "\n",
        "arr = np.array([1.1, 2.1, 3.1])\n",
        "\n",
        "newarr = arr.astype(int)\n",
        "\n",
        "print(newarr)\n",
        "print(newarr.dtype)"
      ],
      "execution_count": null,
      "outputs": [
        {
          "output_type": "stream",
          "text": [
            "[1 2 3]\n",
            "int64\n"
          ],
          "name": "stdout"
        }
      ]
    },
    {
      "cell_type": "markdown",
      "metadata": {
        "id": "Or3Lpf-OZQQx"
      },
      "source": [
        "**Example**\n",
        "\n",
        "Change data type from integer to boolean:\n",
        "\n"
      ]
    },
    {
      "cell_type": "code",
      "metadata": {
        "id": "fXs0imSDXz2a",
        "colab": {
          "base_uri": "https://localhost:8080/",
          "height": 51
        },
        "outputId": "dc048f27-9937-4ebe-b0b9-4f39f342041f"
      },
      "source": [
        "import numpy as np\n",
        "\n",
        "arr = np.array([1, 0, 3])\n",
        "\n",
        "newarr = arr.astype(bool)\n",
        "\n",
        "print(newarr)\n",
        "print(newarr.dtype)"
      ],
      "execution_count": null,
      "outputs": [
        {
          "output_type": "stream",
          "text": [
            "[ True False  True]\n",
            "bool\n"
          ],
          "name": "stdout"
        }
      ]
    },
    {
      "cell_type": "code",
      "metadata": {
        "id": "NzaC-ALJZUUN"
      },
      "source": [
        ""
      ],
      "execution_count": null,
      "outputs": []
    }
  ]
}