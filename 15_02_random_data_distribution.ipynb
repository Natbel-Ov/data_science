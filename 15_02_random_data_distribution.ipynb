{
  "nbformat": 4,
  "nbformat_minor": 0,
  "metadata": {
    "colab": {
      "name": "15_02_random_data_distribution.ipynb",
      "provenance": [],
      "collapsed_sections": [],
      "include_colab_link": true
    },
    "kernelspec": {
      "name": "python3",
      "display_name": "Python 3"
    }
  },
  "cells": [
    {
      "cell_type": "markdown",
      "metadata": {
        "id": "view-in-github",
        "colab_type": "text"
      },
      "source": [
        "<a href=\"https://colab.research.google.com/github/Natbel-Ov/data_science/blob/main/15_02_random_data_distribution.ipynb\" target=\"_parent\"><img src=\"https://colab.research.google.com/assets/colab-badge.svg\" alt=\"Open In Colab\"/></a>"
      ]
    },
    {
      "cell_type": "markdown",
      "metadata": {
        "id": "-Awl0_h8bvQy"
      },
      "source": [
        "#Random Data Distribution"
      ]
    },
    {
      "cell_type": "markdown",
      "metadata": {
        "id": "QvYXsYfEb042"
      },
      "source": [
        "##What is Data Distribution?\n",
        "Data Distribution is a list of all possible values, and how often each value occurs.\n",
        "\n",
        "Such lists are important when working with statistics and data science.\n",
        "\n",
        "The random module offer methods that returns randomly generated data distributions."
      ]
    },
    {
      "cell_type": "markdown",
      "metadata": {
        "id": "0_Rmx4kPb_qq"
      },
      "source": [
        "##Random Distribution\n",
        "A random distribution is a set of random numbers that follow a certain probability density function.\n",
        "\n",
        "> **Probability Density Function:** A function that describes a continuous probability. i.e. probability of all values in an array.\n",
        "\n",
        "We can generate random numbers based on defined probabilities using the choice() method of the random module.\n",
        "\n",
        "The choice() method allows us to specify the probability for each value.\n",
        "\n",
        "The probability is set by a number between 0 and 1, where 0 means that the value will never occur and 1 means that the value will always occur."
      ]
    },
    {
      "cell_type": "markdown",
      "metadata": {
        "id": "KCdfh9bdcH06"
      },
      "source": [
        "**Example**\n",
        "\n",
        "Generate a 1-D array containing 100 values, where each value has to be 3, 5, 7 or 9.\n",
        "\n",
        "The probability for the value to be 3 is set to be 0.1\n",
        "\n",
        "The probability for the value to be 5 is set to be 0.3\n",
        "\n",
        "The probability for the value to be 7 is set to be 0.6\n",
        "\n",
        "The probability for the value to be 9 is set to be 0"
      ]
    },
    {
      "cell_type": "code",
      "metadata": {
        "id": "JMOUEVTrboze",
        "colab": {
          "base_uri": "https://localhost:8080/",
          "height": 68
        },
        "outputId": "069f6a4f-a022-4fcc-c65e-b70cdaafbd46"
      },
      "source": [
        "from numpy import random\n",
        "\n",
        "x = random.choice([3, 5, 7, 9], p=[0.1, 0.3, 0.6, 0.0], size=(100))\n",
        "\n",
        "print(x)"
      ],
      "execution_count": null,
      "outputs": [
        {
          "output_type": "stream",
          "text": [
            "[7 3 7 7 5 3 7 5 5 7 5 5 7 3 5 7 7 5 7 5 7 7 7 7 7 7 5 5 5 7 7 5 7 3 5 5 5\n",
            " 7 7 5 3 5 7 7 7 7 7 7 7 5 5 7 7 7 5 5 7 7 7 7 7 7 7 7 7 7 7 5 7 7 7 5 5 5\n",
            " 7 3 7 3 7 7 5 5 7 7 7 7 7 5 5 7 5 7 7 7 7 5 5 7 7 5]\n"
          ],
          "name": "stdout"
        }
      ]
    },
    {
      "cell_type": "markdown",
      "metadata": {
        "id": "L7GA8PpacZSE"
      },
      "source": [
        "> The sum of all probability numbers should be 1.\n",
        "\n",
        "Even if you run the example above 100 times, the value 9 will never occur.\n",
        "\n",
        "You can return arrays of any shape and size by specifying the shape in the size parameter."
      ]
    },
    {
      "cell_type": "markdown",
      "metadata": {
        "id": "Es0AnWjAchsL"
      },
      "source": [
        "**Example**\n",
        "\n",
        "Same example as above, but return a 2-D array with 3 rows, each containing 5 values."
      ]
    },
    {
      "cell_type": "code",
      "metadata": {
        "id": "P1-W_e4xcLlk",
        "colab": {
          "base_uri": "https://localhost:8080/",
          "height": 68
        },
        "outputId": "46e8702f-b4dc-4ca1-d3ca-01f5eb63b329"
      },
      "source": [
        "from numpy import random\n",
        "\n",
        "x = random.choice([3, 5, 7, 9], p=[0.1, 0.3, 0.6, 0.0], size=(3, 5))\n",
        "\n",
        "print(x)"
      ],
      "execution_count": null,
      "outputs": [
        {
          "output_type": "stream",
          "text": [
            "[[7 5 7 7 7]\n",
            " [3 5 7 5 5]\n",
            " [3 7 7 5 7]]\n"
          ],
          "name": "stdout"
        }
      ]
    },
    {
      "cell_type": "code",
      "metadata": {
        "id": "LejFtPTrcko0"
      },
      "source": [
        ""
      ],
      "execution_count": null,
      "outputs": []
    }
  ]
}