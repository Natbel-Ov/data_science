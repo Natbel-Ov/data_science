{
  "nbformat": 4,
  "nbformat_minor": 0,
  "metadata": {
    "colab": {
      "name": "07_numpy_array_ shape.ipynb",
      "provenance": [],
      "collapsed_sections": [],
      "include_colab_link": true
    },
    "kernelspec": {
      "name": "python3",
      "display_name": "Python 3"
    }
  },
  "cells": [
    {
      "cell_type": "markdown",
      "metadata": {
        "id": "view-in-github",
        "colab_type": "text"
      },
      "source": [
        "<a href=\"https://colab.research.google.com/github/Natbel-Ov/data_science/blob/main/07_numpy_array__shape.ipynb\" target=\"_parent\"><img src=\"https://colab.research.google.com/assets/colab-badge.svg\" alt=\"Open In Colab\"/></a>"
      ]
    },
    {
      "cell_type": "markdown",
      "metadata": {
        "id": "I1EmimzCdMC7"
      },
      "source": [
        "#NumPy Array Shape"
      ]
    },
    {
      "cell_type": "markdown",
      "metadata": {
        "id": "Z1uwRbKidRem"
      },
      "source": [
        "##Shape of an Array\n",
        "The shape of an array is the number of elements in each dimension.\n",
        "\n",
        "##Get the Shape of an Array\n",
        "NumPy arrays have an attribute called shape that returns a tuple with each index having the number of corresponding elements.\n"
      ]
    },
    {
      "cell_type": "markdown",
      "metadata": {
        "id": "n6NtzL6PdYz3"
      },
      "source": [
        "**Example**\n",
        "\n",
        "Print the shape of a 2-D array:"
      ]
    },
    {
      "cell_type": "code",
      "metadata": {
        "id": "sUFxm9bcc-uR"
      },
      "source": [
        "import numpy as np\n",
        "\n",
        "arr = np.array([[1, 2, 3, 4], [5, 6, 7, 8]])\n",
        "print(arr.shape)"
      ],
      "execution_count": null,
      "outputs": []
    },
    {
      "cell_type": "markdown",
      "metadata": {
        "id": "3GwicQKFd-3x"
      },
      "source": [
        "The example above returns `(2, 4)`, which means that the array has 2 dimensions, and each dimension has 4 elements.\n"
      ]
    },
    {
      "cell_type": "markdown",
      "metadata": {
        "id": "D2kua9YIePLZ"
      },
      "source": [
        "**Example**\n",
        "\n",
        "Create an array with 5 dimensions using `ndmin` using a vector with values `1,2,3,4` and verify that last dimension has value `4`:"
      ]
    },
    {
      "cell_type": "code",
      "metadata": {
        "id": "vnLyslM6deHr",
        "colab": {
          "base_uri": "https://localhost:8080/",
          "height": 51
        },
        "outputId": "5d6e8927-6746-48be-f573-068f064e79c7"
      },
      "source": [
        "import numpy as np\n",
        "\n",
        "arr = np.array([1, 2, 3, 4], ndmin=5)\n",
        "\n",
        "print(arr)\n",
        "print('shape of array :', arr.shape)"
      ],
      "execution_count": null,
      "outputs": [
        {
          "output_type": "stream",
          "text": [
            "[[[[[1 2 3 4]]]]]\n",
            "shape of array : (1, 1, 1, 1, 4)\n"
          ],
          "name": "stdout"
        }
      ]
    },
    {
      "cell_type": "markdown",
      "metadata": {
        "id": "lPBYfI3eef5W"
      },
      "source": [
        "##What does the shape tuple represent?\n",
        "Integers at every index tells about the number of elements the corresponding dimension has.\n",
        "\n",
        "In the example above at index-4 we have value 4, so we can say that 5th ( 4 + 1 th) dimension has 4 elements."
      ]
    },
    {
      "cell_type": "code",
      "metadata": {
        "id": "Di9cOWSQebHv"
      },
      "source": [
        ""
      ],
      "execution_count": null,
      "outputs": []
    }
  ]
}