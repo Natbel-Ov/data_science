{
  "nbformat": 4,
  "nbformat_minor": 0,
  "metadata": {
    "colab": {
      "name": "15_03_random_permutations.ipynb",
      "provenance": [],
      "collapsed_sections": [],
      "include_colab_link": true
    },
    "kernelspec": {
      "name": "python3",
      "display_name": "Python 3"
    }
  },
  "cells": [
    {
      "cell_type": "markdown",
      "metadata": {
        "id": "view-in-github",
        "colab_type": "text"
      },
      "source": [
        "<a href=\"https://colab.research.google.com/github/Natbel-Ov/data_science/blob/main/15_03_random_permutations.ipynb\" target=\"_parent\"><img src=\"https://colab.research.google.com/assets/colab-badge.svg\" alt=\"Open In Colab\"/></a>"
      ]
    },
    {
      "cell_type": "markdown",
      "metadata": {
        "id": "Z_HqpaBJf4Vd"
      },
      "source": [
        "#Random Permutations"
      ]
    },
    {
      "cell_type": "markdown",
      "metadata": {
        "id": "8L-Gf27uf9xU"
      },
      "source": [
        "##Random Permutations of Elements\n",
        "A permutation refers to an arrangement of elements. e.g. `[3, 2, 1]` is a permutation of `[1, 2, 3]` and vice-versa.\n",
        "\n",
        "The NumPy Random module provides two methods for this: `shuffle()` and `permutation()`."
      ]
    },
    {
      "cell_type": "markdown",
      "metadata": {
        "id": "RyGaTdCQgOG1"
      },
      "source": [
        "##Shuffling Arrays\n",
        "Shuffle means changing arrangement of elements in-place. i.e. in the array itself."
      ]
    },
    {
      "cell_type": "markdown",
      "metadata": {
        "id": "bN7s4GW2gRUd"
      },
      "source": [
        "**Example**\n",
        "\n",
        "Randomly shuffle elements of following array:"
      ]
    },
    {
      "cell_type": "code",
      "metadata": {
        "id": "gD_SqSpifrkn",
        "colab": {
          "base_uri": "https://localhost:8080/",
          "height": 34
        },
        "outputId": "6439e8df-1b2c-4772-c0c5-3b5405cb5a1b"
      },
      "source": [
        "from numpy import random\n",
        "import numpy as np\n",
        "\n",
        "arr = np.array([1, 2, 3, 4, 5])\n",
        "\n",
        "random.shuffle(arr)\n",
        "\n",
        "print(arr)"
      ],
      "execution_count": null,
      "outputs": [
        {
          "output_type": "stream",
          "text": [
            "[4 3 1 5 2]\n"
          ],
          "name": "stdout"
        }
      ]
    },
    {
      "cell_type": "markdown",
      "metadata": {
        "id": "hVLav59vgWtN"
      },
      "source": [
        "> The `shuffle()` method makes changes to the original array."
      ]
    },
    {
      "cell_type": "markdown",
      "metadata": {
        "id": "o_4gG2Eugftd"
      },
      "source": [
        "##Generating Permutation of Arrays"
      ]
    },
    {
      "cell_type": "markdown",
      "metadata": {
        "id": "JrsfqhwIgiWl"
      },
      "source": [
        "**Example**\n",
        "\n",
        "Generate a random permutation of elements of following array:"
      ]
    },
    {
      "cell_type": "code",
      "metadata": {
        "id": "t52EdA5qgUT2",
        "colab": {
          "base_uri": "https://localhost:8080/",
          "height": 34
        },
        "outputId": "c3ada2f6-2181-4840-f5ac-e3448628a62f"
      },
      "source": [
        "from numpy import random\n",
        "import numpy as np\n",
        "\n",
        "arr = np.array([1, 2, 3, 4, 5])\n",
        "\n",
        "print(random.permutation(arr))"
      ],
      "execution_count": null,
      "outputs": [
        {
          "output_type": "stream",
          "text": [
            "[2 4 1 5 3]\n"
          ],
          "name": "stdout"
        }
      ]
    },
    {
      "cell_type": "markdown",
      "metadata": {
        "id": "ohEu1fhsgn-G"
      },
      "source": [
        "> The permutation() method returns a re-arranged array (and leaves the original array un-changed)."
      ]
    },
    {
      "cell_type": "code",
      "metadata": {
        "id": "ozzOyuhAgl4H"
      },
      "source": [
        ""
      ],
      "execution_count": null,
      "outputs": []
    }
  ]
}