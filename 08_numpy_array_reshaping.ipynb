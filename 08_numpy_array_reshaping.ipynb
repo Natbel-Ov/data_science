{
  "nbformat": 4,
  "nbformat_minor": 0,
  "metadata": {
    "colab": {
      "name": "08_numpy_array_reshaping.ipynb",
      "provenance": [],
      "collapsed_sections": [],
      "include_colab_link": true
    },
    "kernelspec": {
      "name": "python3",
      "display_name": "Python 3"
    }
  },
  "cells": [
    {
      "cell_type": "markdown",
      "metadata": {
        "id": "view-in-github",
        "colab_type": "text"
      },
      "source": [
        "<a href=\"https://colab.research.google.com/github/Natbel-Ov/data_science/blob/main/08_numpy_array_reshaping.ipynb\" target=\"_parent\"><img src=\"https://colab.research.google.com/assets/colab-badge.svg\" alt=\"Open In Colab\"/></a>"
      ]
    },
    {
      "cell_type": "markdown",
      "metadata": {
        "id": "tqYIplG3gMOy"
      },
      "source": [
        "#NumPy Array Reshaping"
      ]
    },
    {
      "cell_type": "markdown",
      "metadata": {
        "id": "49cJvdvEgg3-"
      },
      "source": [
        "##Reshaping arrays\n",
        "Reshaping means changing the shape of an array.\n",
        "\n",
        "The shape of an array is the number of elements in each dimension.\n",
        "\n",
        "By reshaping we can add or remove dimensions or change number of elements in each dimension.\n",
        "\n"
      ]
    },
    {
      "cell_type": "markdown",
      "metadata": {
        "id": "qh2_CgaRgyFx"
      },
      "source": [
        "##Reshape From 1-D to 2-D"
      ]
    },
    {
      "cell_type": "markdown",
      "metadata": {
        "id": "A3hLQaZugsCR"
      },
      "source": [
        "**Example**\n",
        "\n",
        "Convert the following 1-D array with 12 elements into a 2-D array.\n",
        "\n",
        "The outermost dimension will have 4 arrays, each with 3 elements:"
      ]
    },
    {
      "cell_type": "code",
      "metadata": {
        "id": "wS0cIHhzgLEN",
        "colab": {
          "base_uri": "https://localhost:8080/",
          "height": 85
        },
        "outputId": "74bbf15b-2971-473e-ad44-3d1610d21746"
      },
      "source": [
        "import numpy as np\n",
        "\n",
        "arr = np.array([1, 2, 3, 4, 5, 6, 7, 8, 9, 10, 11, 12])\n",
        "newarr = arr.reshape(4, 3)\n",
        "print(newarr)"
      ],
      "execution_count": null,
      "outputs": [
        {
          "output_type": "stream",
          "text": [
            "[[ 1  2  3]\n",
            " [ 4  5  6]\n",
            " [ 7  8  9]\n",
            " [10 11 12]]\n"
          ],
          "name": "stdout"
        }
      ]
    },
    {
      "cell_type": "markdown",
      "metadata": {
        "id": "1gd1YHZdg8xT"
      },
      "source": [
        "##Reshape From 1-D to 3-D\n"
      ]
    },
    {
      "cell_type": "markdown",
      "metadata": {
        "id": "uFD5wPKEhCKa"
      },
      "source": [
        "**Example**\n",
        "\n",
        "Convert the following 1-D array with 12 elements into a 3-D array.\n",
        "\n",
        "The outermost dimension will have 2 arrays that contains 3 arrays, each with 2 elements:"
      ]
    },
    {
      "cell_type": "code",
      "metadata": {
        "id": "LQ2ZnGJQg4x8",
        "colab": {
          "base_uri": "https://localhost:8080/",
          "height": 136
        },
        "outputId": "c33e697a-6c0c-4d84-a529-87308af6f817"
      },
      "source": [
        "import numpy as np\n",
        "\n",
        "arr = np.array([1, 2, 3, 4, 5, 6, 7, 8, 9, 10, 11, 12])\n",
        "\n",
        "newarr = arr.reshape(2, 3, 2)\n",
        "\n",
        "print(newarr)"
      ],
      "execution_count": null,
      "outputs": [
        {
          "output_type": "stream",
          "text": [
            "[[[ 1  2]\n",
            "  [ 3  4]\n",
            "  [ 5  6]]\n",
            "\n",
            " [[ 7  8]\n",
            "  [ 9 10]\n",
            "  [11 12]]]\n"
          ],
          "name": "stdout"
        }
      ]
    },
    {
      "cell_type": "markdown",
      "metadata": {
        "id": "qJdj8IoKhKOq"
      },
      "source": [
        "##Can We Reshape Into any Shape?\n",
        "Yes, as long as the elements required for reshaping are equal in both shapes.\n",
        "\n",
        "We can reshape an 8 elements 1D array into 4 elements in 2 rows 2D array but we cannot reshape it into a 3 elements 3 rows 2D array as that would require 3x3 = 9 elements.\n",
        "\n"
      ]
    },
    {
      "cell_type": "markdown",
      "metadata": {
        "id": "ONzpoaTvhQej"
      },
      "source": [
        "**Example**\n",
        "\n",
        "Try converting 1D array with 8 elements to a 2D array with 3 elements in each dimension (will raise an error):"
      ]
    },
    {
      "cell_type": "code",
      "metadata": {
        "id": "D2RX-dWThF2S"
      },
      "source": [
        "import numpy as np\n",
        "\n",
        "arr = np.array([1, 2, 3, 4, 5, 6, 7, 8])\n",
        "\n",
        "newarr = arr.reshape(3, 3)\n",
        "\n",
        "print(newarr)"
      ],
      "execution_count": null,
      "outputs": []
    },
    {
      "cell_type": "markdown",
      "metadata": {
        "id": "EqW4b8lshdW7"
      },
      "source": [
        "##Returns Copy or View?\n",
        "\n"
      ]
    },
    {
      "cell_type": "markdown",
      "metadata": {
        "id": "jcT7wHmihiJp"
      },
      "source": [
        "**Example**\n",
        "\n",
        "Check if the returned array is a copy or a view:"
      ]
    },
    {
      "cell_type": "code",
      "metadata": {
        "id": "gbZI_8UShVjW",
        "colab": {
          "base_uri": "https://localhost:8080/",
          "height": 34
        },
        "outputId": "6cd0121a-f47a-4df9-a3eb-26b7087758b8"
      },
      "source": [
        "import numpy as np\n",
        "\n",
        "arr = np.array([1, 2, 3, 4, 5, 6, 7, 8])\n",
        "\n",
        "print(arr.reshape(2, 4).base)"
      ],
      "execution_count": null,
      "outputs": [
        {
          "output_type": "stream",
          "text": [
            "[1 2 3 4 5 6 7 8]\n"
          ],
          "name": "stdout"
        }
      ]
    },
    {
      "cell_type": "markdown",
      "metadata": {
        "id": "CEf5QJ5yhoxG"
      },
      "source": [
        "The example above returns the original array, so it is a view.\n",
        "\n"
      ]
    },
    {
      "cell_type": "markdown",
      "metadata": {
        "id": "U8WF0J2yhvgG"
      },
      "source": [
        "##Unknown Dimension\n",
        "You are allowed to have one \"unknown\" dimension.\n",
        "\n",
        "Meaning that you do not have to specify an exact number for one of the dimensions in the reshape method.\n",
        "\n",
        "Pass -1 as the value, and NumPy will calculate this number for you.\n"
      ]
    },
    {
      "cell_type": "markdown",
      "metadata": {
        "id": "C23kTpsxhyeJ"
      },
      "source": [
        "**Example**\n",
        "\n",
        "Convert 1D array with 8 elements to 3D array with 2x2 elements:"
      ]
    },
    {
      "cell_type": "code",
      "metadata": {
        "id": "zBkU-0LjhlU1",
        "colab": {
          "base_uri": "https://localhost:8080/",
          "height": 102
        },
        "outputId": "3362f911-8264-4bc9-df8f-071a29acf4bb"
      },
      "source": [
        "import numpy as np\n",
        "\n",
        "arr = np.array([1, 2, 3, 4, 5, 6, 7, 8])\n",
        "\n",
        "newarr = arr.reshape(2, 2, -1)\n",
        "\n",
        "print(newarr)"
      ],
      "execution_count": null,
      "outputs": [
        {
          "output_type": "stream",
          "text": [
            "[[[1 2]\n",
            "  [3 4]]\n",
            "\n",
            " [[5 6]\n",
            "  [7 8]]]\n"
          ],
          "name": "stdout"
        }
      ]
    },
    {
      "cell_type": "markdown",
      "metadata": {
        "id": "idDddEB8h5Y2"
      },
      "source": [
        "> **Note:** We can not pass -1 to more than one dimension.\n",
        "\n"
      ]
    },
    {
      "cell_type": "markdown",
      "metadata": {
        "id": "mdh5qVQIiCqd"
      },
      "source": [
        "##Flattening the arrays\n",
        "Flattening array means converting a multidimensional array into a 1D array.\n",
        "\n",
        "We can use reshape(-1) to do this.\n"
      ]
    },
    {
      "cell_type": "markdown",
      "metadata": {
        "id": "oGwDkrvGh5Oz"
      },
      "source": [
        "**Example**\n",
        "\n",
        "Convert the array into a 1D array:"
      ]
    },
    {
      "cell_type": "code",
      "metadata": {
        "id": "ovGfHC_Uh173",
        "colab": {
          "base_uri": "https://localhost:8080/",
          "height": 34
        },
        "outputId": "32d73d4a-6196-4bbe-ab38-b904fcb636fa"
      },
      "source": [
        "import numpy as np\n",
        "\n",
        "arr = np.array([[1, 2, 3], [4, 5, 6]])\n",
        "\n",
        "newarr = arr.reshape(-1)\n",
        "\n",
        "print(newarr)"
      ],
      "execution_count": null,
      "outputs": [
        {
          "output_type": "stream",
          "text": [
            "[1 2 3 4 5 6]\n"
          ],
          "name": "stdout"
        }
      ]
    },
    {
      "cell_type": "markdown",
      "metadata": {
        "id": "XQITXntoiOGF"
      },
      "source": [
        "> **Note:** There are a lot of functions for changing the shapes of arrays in numpy `flatten`, `ravel` and also for rearranging the elements `rot90`, `flip`, `fliplr`, `flipud` etc. These fall under Intermediate to Advanced section of numpy."
      ]
    },
    {
      "cell_type": "code",
      "metadata": {
        "id": "hhluSANLiLOy"
      },
      "source": [
        ""
      ],
      "execution_count": null,
      "outputs": []
    }
  ]
}