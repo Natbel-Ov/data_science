{
  "nbformat": 4,
  "nbformat_minor": 0,
  "metadata": {
    "colab": {
      "name": "13_numpy_sorting_arrays.ipynb",
      "provenance": [],
      "collapsed_sections": [],
      "include_colab_link": true
    },
    "kernelspec": {
      "name": "python3",
      "display_name": "Python 3"
    }
  },
  "cells": [
    {
      "cell_type": "markdown",
      "metadata": {
        "id": "view-in-github",
        "colab_type": "text"
      },
      "source": [
        "<a href=\"https://colab.research.google.com/github/Natbel-Ov/data_science/blob/main/13_numpy_sorting_arrays.ipynb\" target=\"_parent\"><img src=\"https://colab.research.google.com/assets/colab-badge.svg\" alt=\"Open In Colab\"/></a>"
      ]
    },
    {
      "cell_type": "markdown",
      "metadata": {
        "id": "XhBtPfraWFBO"
      },
      "source": [
        "#NumPy Sorting Arrays"
      ]
    },
    {
      "cell_type": "markdown",
      "metadata": {
        "id": "PHgB9K5HWJ8O"
      },
      "source": [
        "##Sorting Arrays\n",
        "Sorting means putting elements in a ordered sequence.\n",
        "\n",
        "Ordered sequence is any sequence that has an order corresponding to elements, like numeric or alphabetical, ascending or descending.\n",
        "\n",
        "The NumPy ndarray object has a function called sort(), that will sort a specified array."
      ]
    },
    {
      "cell_type": "markdown",
      "metadata": {
        "id": "770QL947WN2b"
      },
      "source": [
        "**Example**\n",
        "\n",
        "Sort the array:"
      ]
    },
    {
      "cell_type": "code",
      "metadata": {
        "id": "2QjM4_V2V-Ri",
        "colab": {
          "base_uri": "https://localhost:8080/",
          "height": 34
        },
        "outputId": "4d879f60-3489-4f99-aae6-05e67767754b"
      },
      "source": [
        "import numpy as np\n",
        "\n",
        "arr = np.array([3, 2, 0, 1])\n",
        "\n",
        "print(np.sort(arr))"
      ],
      "execution_count": null,
      "outputs": [
        {
          "output_type": "stream",
          "text": [
            "[0 1 2 3]\n"
          ],
          "name": "stdout"
        }
      ]
    },
    {
      "cell_type": "markdown",
      "metadata": {
        "id": "YftixWk5WTo7"
      },
      "source": [
        "> *Note: This method returns a copy of the array, leaving the original array unchanged.\n",
        "\n",
        "You can also sort arrays of strings, or any other data type:\n",
        "\n",
        "Example\n",
        "Sort the array alphabetically:"
      ]
    },
    {
      "cell_type": "markdown",
      "metadata": {
        "id": "yKxu6tB8WhpU"
      },
      "source": [
        "> **Note:** This method returns a copy of the array, leaving the original array unchanged.\n",
        "\n",
        "You can also sort arrays of strings, or any other data type:"
      ]
    },
    {
      "cell_type": "markdown",
      "metadata": {
        "id": "ybnB79aaWolU"
      },
      "source": [
        "**Example**\n",
        "\n",
        "Sort the array alphabetically:"
      ]
    },
    {
      "cell_type": "code",
      "metadata": {
        "id": "fX2aJdIoWnUs",
        "colab": {
          "base_uri": "https://localhost:8080/",
          "height": 34
        },
        "outputId": "b1216b39-840f-4ce9-f853-48f49d85cb14"
      },
      "source": [
        "import numpy as np\n",
        "\n",
        "arr = np.array(['banana', 'cherry', 'apple'])\n",
        "\n",
        "print(np.sort(arr))"
      ],
      "execution_count": null,
      "outputs": [
        {
          "output_type": "stream",
          "text": [
            "['apple' 'banana' 'cherry']\n"
          ],
          "name": "stdout"
        }
      ]
    },
    {
      "cell_type": "markdown",
      "metadata": {
        "id": "pJ8fsXcKWuIU"
      },
      "source": [
        "**Example**\n",
        "\n",
        "Sort a boolean array:"
      ]
    },
    {
      "cell_type": "code",
      "metadata": {
        "id": "xOjbrLm1Wrfs",
        "colab": {
          "base_uri": "https://localhost:8080/",
          "height": 34
        },
        "outputId": "0eaa67be-23c2-451b-c2de-c4fc070b7d88"
      },
      "source": [
        "import numpy as np\n",
        "\n",
        "arr = np.array([True, False, True])\n",
        "\n",
        "print(np.sort(arr))"
      ],
      "execution_count": null,
      "outputs": [
        {
          "output_type": "stream",
          "text": [
            "[False  True  True]\n"
          ],
          "name": "stdout"
        }
      ]
    },
    {
      "cell_type": "markdown",
      "metadata": {
        "id": "-3HtaOGFW5Ec"
      },
      "source": [
        "##Sorting a 2-D Array\n",
        "If you use the sort() method on a 2-D array, both arrays will be sorted:"
      ]
    },
    {
      "cell_type": "markdown",
      "metadata": {
        "id": "KH_mOqmsW-Zc"
      },
      "source": [
        "**Example**\n",
        "\n",
        "Sort a 2-D array:"
      ]
    },
    {
      "cell_type": "code",
      "metadata": {
        "id": "nOtHpOK7W1AE",
        "colab": {
          "base_uri": "https://localhost:8080/",
          "height": 51
        },
        "outputId": "37647ac8-5fe9-4745-8bc1-12520974cd26"
      },
      "source": [
        "import numpy as np\n",
        "\n",
        "arr = np.array([[3, 2, 4], [5, 0, 1]])\n",
        "\n",
        "print(np.sort(arr))"
      ],
      "execution_count": null,
      "outputs": [
        {
          "output_type": "stream",
          "text": [
            "[[2 3 4]\n",
            " [0 1 5]]\n"
          ],
          "name": "stdout"
        }
      ]
    },
    {
      "cell_type": "code",
      "metadata": {
        "id": "TAadSH4VXBbJ"
      },
      "source": [
        ""
      ],
      "execution_count": null,
      "outputs": []
    }
  ]
}